{
 "cells": [
  {
   "cell_type": "markdown",
   "metadata": {},
   "source": [
    "#### Creating File DataFrame"
   ]
  },
  {
   "cell_type": "markdown",
   "metadata": {},
   "source": [
    "- 데이터 출처\n",
    "    - https://open.selectstar.ai/ko/?page_id=5976\n",
    "    - https://aihub.or.kr/aihubdata/data/view.do?currMenu=&topMenu=&aihubDataSe=realm&dataSetSn=242\n",
    "    - https://aihub.or.kr/aihubdata/data/view.do?currMenu=&topMenu=&aihubDataSe=realm&dataSetSn=79"
   ]
  },
  {
   "cell_type": "code",
   "execution_count": 115,
   "metadata": {},
   "outputs": [],
   "source": [
    "import pandas as pd\n",
    "import numpy as np\n",
    "import os\n",
    "import json\n",
    "import random\n",
    "from natsort import natsorted\n",
    "from pathlib import Path\n",
    "\n",
    "import matplotlib.pyplot as plt"
   ]
  },
  {
   "cell_type": "code",
   "execution_count": 3,
   "metadata": {},
   "outputs": [],
   "source": [
    "BASE_PATH = '../data/edited_data'\n",
    "\n",
    "dir_path = Path(BASE_PATH)"
   ]
  },
  {
   "cell_type": "code",
   "execution_count": 98,
   "metadata": {},
   "outputs": [],
   "source": [
    "# # food1 깨진 파일 삭제\n",
    "# food1_ps = list(dir_path.joinpath('food1').rglob(\"*.png\"))\n",
    "\n",
    "# for i in food1_ps:\n",
    "#     if  i.stem.startswith('._') == True:\n",
    "#         os.remove(str(i))"
   ]
  },
  {
   "cell_type": "code",
   "execution_count": 101,
   "metadata": {},
   "outputs": [
    {
     "data": {
      "text/plain": [
       "45"
      ]
     },
     "execution_count": 101,
     "metadata": {},
     "output_type": "execute_result"
    }
   ],
   "source": [
    "food1_cate = []\n",
    "\n",
    "for (root, directories, files) in os.walk(dir_path.joinpath('food1')):\n",
    "    for d in directories:\n",
    "        category = os.path.join(root, d).split('\\\\')[-1]\n",
    "        food1_cate.append(category)\n",
    "\n",
    "food1_cate = food1_cate[:45]\n",
    "len(food1_cate)"
   ]
  },
  {
   "cell_type": "code",
   "execution_count": 102,
   "metadata": {},
   "outputs": [
    {
     "name": "stdout",
     "output_type": "stream",
     "text": [
      "44999 44999\n"
     ]
    }
   ],
   "source": [
    "food1_paths = []\n",
    "\n",
    "for category in food1_cate:\n",
    "    if len(list(dir_path.joinpath(f'food1/{category}').rglob(\"*.png\"))) > 1000:\n",
    "        random_elements = random.sample(list(dir_path.joinpath(f'food1/{category}').rglob(\"*.png\")), 1000)\n",
    "        food1_paths.extend(random_elements)\n",
    "    else :\n",
    "        small = list(dir_path.joinpath(f'food1/{category}').rglob(\"*.png\"))\n",
    "        food1_paths.extend(small)\n",
    "\n",
    "food1_labels = list(map(lambda x: os.path.split(x)[0].split('\\\\')[4], food1_paths))\n",
    "\n",
    "print(len(food1_paths), len(food1_labels))"
   ]
  },
  {
   "cell_type": "code",
   "execution_count": 61,
   "metadata": {},
   "outputs": [
    {
     "data": {
      "text/plain": [
       "81"
      ]
     },
     "execution_count": 61,
     "metadata": {},
     "output_type": "execute_result"
    }
   ],
   "source": [
    "food2_cate = []\n",
    "\n",
    "for (root, directories, files) in os.walk(dir_path.joinpath('food2')):\n",
    "    for d in directories:\n",
    "        category = os.path.join(root, d).split('\\\\')[-1]\n",
    "        food2_cate.append(category)\n",
    "\n",
    "len(food2_cate)"
   ]
  },
  {
   "cell_type": "code",
   "execution_count": 62,
   "metadata": {},
   "outputs": [
    {
     "name": "stdout",
     "output_type": "stream",
     "text": [
      "70303 70303\n"
     ]
    }
   ],
   "source": [
    "food2_paths = []\n",
    "\n",
    "for category in food2_cate:\n",
    "    if len(list(dir_path.joinpath(f'food2/{category}').rglob(\"*.jpg\"))) > 1000:\n",
    "        random_elements = random.sample(list(dir_path.joinpath(f'food2/{category}').rglob(\"*.jpg\")), 1000)\n",
    "        food2_paths.extend(random_elements)\n",
    "    else :\n",
    "        small = list(dir_path.joinpath(f'food2/{category}').rglob(\"*.jpg\"))\n",
    "        food2_paths.extend(small)\n",
    "\n",
    "food2_labels = list(map(lambda x: os.path.split(x)[0].split('\\\\')[4], food2_paths))\n",
    "\n",
    "print(len(food2_paths), len(food2_labels))"
   ]
  },
  {
   "cell_type": "code",
   "execution_count": 63,
   "metadata": {},
   "outputs": [
    {
     "data": {
      "text/plain": [
       "31"
      ]
     },
     "execution_count": 63,
     "metadata": {},
     "output_type": "execute_result"
    }
   ],
   "source": [
    "food3_cate = []\n",
    "\n",
    "for (root, directories, files) in os.walk(dir_path.joinpath('food3')):\n",
    "    for d in directories:\n",
    "        category = os.path.join(root, d).split('\\\\')[-1]\n",
    "        food3_cate.append(category)\n",
    "\n",
    "len(food3_cate)"
   ]
  },
  {
   "cell_type": "code",
   "execution_count": 64,
   "metadata": {},
   "outputs": [
    {
     "name": "stdout",
     "output_type": "stream",
     "text": [
      "30964 30964\n"
     ]
    }
   ],
   "source": [
    "food3_paths = []\n",
    "\n",
    "for category in food3_cate:\n",
    "    if len(list(dir_path.joinpath(f'food3/{category}').rglob(\"*.jpg\"))) > 1000:\n",
    "        random_elements = random.sample(list(dir_path.joinpath(f'food3/{category}').rglob(\"*.jpg\")), 1000)\n",
    "        food3_paths.extend(random_elements)\n",
    "    else :\n",
    "        small = list(dir_path.joinpath(f'food3/{category}').rglob(\"*.jpg\"))\n",
    "        food3_paths.extend(small)\n",
    "\n",
    "food3_labels = list(map(lambda x: os.path.split(x)[0].split('\\\\')[4], food3_paths))\n",
    "\n",
    "print(len(food3_paths), len(food3_labels))"
   ]
  },
  {
   "cell_type": "code",
   "execution_count": 103,
   "metadata": {},
   "outputs": [
    {
     "name": "stdout",
     "output_type": "stream",
     "text": [
      "146266 146266\n"
     ]
    }
   ],
   "source": [
    "all_image_paths = food1_paths + food2_paths + food3_paths\n",
    "all_labels = food1_labels + food2_labels + food3_labels\n",
    "\n",
    "print(len(all_image_paths), len(all_labels))"
   ]
  },
  {
   "cell_type": "code",
   "execution_count": 104,
   "metadata": {},
   "outputs": [],
   "source": [
    "image_series = pd.Series(all_image_paths, name='imagepath').astype(str)\n",
    "labels_series = pd.Series(all_labels, name='label')\n",
    "\n",
    "image_df = pd.concat([image_series, labels_series], axis=1)"
   ]
  },
  {
   "cell_type": "code",
   "execution_count": 105,
   "metadata": {},
   "outputs": [
    {
     "data": {
      "text/html": [
       "<div>\n",
       "<style scoped>\n",
       "    .dataframe tbody tr th:only-of-type {\n",
       "        vertical-align: middle;\n",
       "    }\n",
       "\n",
       "    .dataframe tbody tr th {\n",
       "        vertical-align: top;\n",
       "    }\n",
       "\n",
       "    .dataframe thead th {\n",
       "        text-align: right;\n",
       "    }\n",
       "</style>\n",
       "<table border=\"1\" class=\"dataframe\">\n",
       "  <thead>\n",
       "    <tr style=\"text-align: right;\">\n",
       "      <th></th>\n",
       "      <th>imagepath</th>\n",
       "      <th>label</th>\n",
       "    </tr>\n",
       "  </thead>\n",
       "  <tbody>\n",
       "    <tr>\n",
       "      <th>0</th>\n",
       "      <td>..\\data\\edited_data\\food1\\baek_sook\\png\\baek_s...</td>\n",
       "      <td>baek_sook</td>\n",
       "    </tr>\n",
       "    <tr>\n",
       "      <th>1</th>\n",
       "      <td>..\\data\\edited_data\\food1\\baek_sook\\png\\baek_s...</td>\n",
       "      <td>baek_sook</td>\n",
       "    </tr>\n",
       "    <tr>\n",
       "      <th>2</th>\n",
       "      <td>..\\data\\edited_data\\food1\\baek_sook\\png\\baek_s...</td>\n",
       "      <td>baek_sook</td>\n",
       "    </tr>\n",
       "    <tr>\n",
       "      <th>3</th>\n",
       "      <td>..\\data\\edited_data\\food1\\baek_sook\\png\\baek_s...</td>\n",
       "      <td>baek_sook</td>\n",
       "    </tr>\n",
       "    <tr>\n",
       "      <th>4</th>\n",
       "      <td>..\\data\\edited_data\\food1\\baek_sook\\png\\baek_s...</td>\n",
       "      <td>baek_sook</td>\n",
       "    </tr>\n",
       "  </tbody>\n",
       "</table>\n",
       "</div>"
      ],
      "text/plain": [
       "                                           imagepath      label\n",
       "0  ..\\data\\edited_data\\food1\\baek_sook\\png\\baek_s...  baek_sook\n",
       "1  ..\\data\\edited_data\\food1\\baek_sook\\png\\baek_s...  baek_sook\n",
       "2  ..\\data\\edited_data\\food1\\baek_sook\\png\\baek_s...  baek_sook\n",
       "3  ..\\data\\edited_data\\food1\\baek_sook\\png\\baek_s...  baek_sook\n",
       "4  ..\\data\\edited_data\\food1\\baek_sook\\png\\baek_s...  baek_sook"
      ]
     },
     "execution_count": 105,
     "metadata": {},
     "output_type": "execute_result"
    }
   ],
   "source": [
    "image_df.head()"
   ]
  },
  {
   "cell_type": "code",
   "execution_count": 106,
   "metadata": {},
   "outputs": [],
   "source": [
    "# image_df.to_csv('image_info.csv')"
   ]
  },
  {
   "cell_type": "markdown",
   "metadata": {},
   "source": [
    "#### Setting"
   ]
  },
  {
   "cell_type": "code",
   "execution_count": 14,
   "metadata": {},
   "outputs": [],
   "source": [
    "from sklearn.model_selection import train_test_split\n",
    "from sklearn.metrics import confusion_matrix, classification_report\n",
    "\n",
    "from tensorflow.keras.applications.densenet import DenseNet121\n",
    "from tensorflow.keras.layers import Conv2D, MaxPooling2D, Flatten\n",
    "from tensorflow.keras.layers import Dense, Dropout, Input,Activation\n",
    "from tensorflow.keras.models import Model\n",
    "from tensorflow.keras.utils import to_categorical\n",
    "from tensorflow.keras.models import Sequential\n",
    "from tensorflow import keras\n",
    "from tensorflow.keras import layers\n",
    "\n",
    "import tensorflow as tf\n",
    "\n",
    "from keras.models import load_model\n",
    "from keras import optimizers, initializers, regularizers, metrics"
   ]
  },
  {
   "cell_type": "code",
   "execution_count": 15,
   "metadata": {},
   "outputs": [],
   "source": [
    "np.random.seed(42)\n",
    "tf.random.set_seed(42)"
   ]
  },
  {
   "cell_type": "code",
   "execution_count": 16,
   "metadata": {},
   "outputs": [
    {
     "name": "stdout",
     "output_type": "stream",
     "text": [
      "[name: \"/device:CPU:0\"\n",
      "device_type: \"CPU\"\n",
      "memory_limit: 268435456\n",
      "locality {\n",
      "}\n",
      "incarnation: 12499667429070069244\n",
      "xla_global_id: -1\n",
      ", name: \"/device:GPU:0\"\n",
      "device_type: \"GPU\"\n",
      "memory_limit: 13059315712\n",
      "locality {\n",
      "  bus_id: 1\n",
      "  links {\n",
      "  }\n",
      "}\n",
      "incarnation: 18117754057457550501\n",
      "physical_device_desc: \"device: 0, name: Quadro RTX 5000, pci bus id: 0000:03:00.0, compute capability: 7.5\"\n",
      "xla_global_id: 416903419\n",
      ", name: \"/device:GPU:1\"\n",
      "device_type: \"GPU\"\n",
      "memory_limit: 13059315712\n",
      "locality {\n",
      "  bus_id: 1\n",
      "  links {\n",
      "  }\n",
      "}\n",
      "incarnation: 1487311132152984478\n",
      "physical_device_desc: \"device: 1, name: Quadro RTX 5000, pci bus id: 0000:81:00.0, compute capability: 7.5\"\n",
      "xla_global_id: 2144165316\n",
      "]\n",
      "───────────────────────────────────────\n",
      "am I using GPU?:  True\n"
     ]
    }
   ],
   "source": [
    "# GPU 사용여부 확인하기\n",
    "from tensorflow.python.client import device_lib\n",
    "\n",
    "print(device_lib.list_local_devices()) # print avaliable CPU, GPU list\n",
    "print(\"───────────────────────────────────────\")\n",
    "print(\"am I using GPU?: \", bool(tf.config.list_physical_devices('GPU'))) # NVIDIA Quadro RTX 5000"
   ]
  },
  {
   "cell_type": "markdown",
   "metadata": {},
   "source": [
    "#### Train-Test Split"
   ]
  },
  {
   "cell_type": "code",
   "execution_count": 107,
   "metadata": {},
   "outputs": [],
   "source": [
    "train_df, test_df = train_test_split(image_df, test_size=0.2, shuffle=True, random_state=42)"
   ]
  },
  {
   "cell_type": "markdown",
   "metadata": {},
   "source": [
    "#### Creating Generators"
   ]
  },
  {
   "cell_type": "code",
   "execution_count": 70,
   "metadata": {},
   "outputs": [],
   "source": [
    "train_generator = tf.keras.preprocessing.image.ImageDataGenerator(\n",
    "    preprocessing_function=tf.keras.applications.densenet.preprocess_input,\n",
    "    validation_split=0.2\n",
    ")\n",
    "\n",
    "test_generator = tf.keras.preprocessing.image.ImageDataGenerator(\n",
    "    preprocessing_function=tf.keras.applications.densenet.preprocess_input\n",
    ")"
   ]
  },
  {
   "cell_type": "code",
   "execution_count": 108,
   "metadata": {},
   "outputs": [
    {
     "name": "stdout",
     "output_type": "stream",
     "text": [
      "Found 93610 validated image filenames belonging to 157 classes.\n",
      "Found 23402 validated image filenames belonging to 157 classes.\n",
      "Found 29254 validated image filenames belonging to 157 classes.\n"
     ]
    }
   ],
   "source": [
    "train_images = train_generator.flow_from_dataframe(\n",
    "    dataframe=train_df,\n",
    "    x_col='imagepath',\n",
    "    y_col='label',\n",
    "    target_size=(224, 224),\n",
    "    color_mode='rgb',\n",
    "    class_mode='categorical',\n",
    "    batch_size=32,\n",
    "    shuffle=True,\n",
    "    seed=42,\n",
    "    subset='training'\n",
    "    )\n",
    "\n",
    "val_images = train_generator.flow_from_dataframe(\n",
    "    dataframe=train_df,\n",
    "    x_col='imagepath',\n",
    "    y_col='label',\n",
    "    target_size=(224, 224),\n",
    "    color_mode='rgb',\n",
    "    class_mode='categorical',\n",
    "    batch_size=32,\n",
    "    shuffle=True,\n",
    "    seed=42,\n",
    "    subset='validation'\n",
    "    )\n",
    "\n",
    "test_images = test_generator.flow_from_dataframe(\n",
    "    dataframe=test_df,\n",
    "    x_col='imagepath',\n",
    "    y_col='label',\n",
    "    target_size=(224, 224),\n",
    "    color_mode='rgb',\n",
    "    class_mode='categorical',\n",
    "    batch_size=32,\n",
    "    shuffle=False\n",
    "    )"
   ]
  },
  {
   "cell_type": "markdown",
   "metadata": {},
   "source": [
    "#### Modeling"
   ]
  },
  {
   "cell_type": "code",
   "execution_count": 109,
   "metadata": {},
   "outputs": [],
   "source": [
    "base_model = DenseNet121(\n",
    "    weights='imagenet', \n",
    "    include_top=False, \n",
    "    input_shape=(224,224,3)\n",
    "    )\n",
    "\n",
    "# base_model.trainable = False\n",
    "\n",
    "for layer in base_model.layers: \n",
    "    layer.trainable = True "
   ]
  },
  {
   "cell_type": "code",
   "execution_count": 110,
   "metadata": {},
   "outputs": [
    {
     "name": "stdout",
     "output_type": "stream",
     "text": [
      "Model: \"sequential_2\"\n",
      "_________________________________________________________________\n",
      " Layer (type)                Output Shape              Param #   \n",
      "=================================================================\n",
      " rescaling_2 (Rescaling)     (None, 224, 224, 3)       0         \n",
      "                                                                 \n",
      " densenet121 (Functional)    (None, 7, 7, 1024)        7037504   \n",
      "                                                                 \n",
      " conv2d_6 (Conv2D)           (None, 7, 7, 16)          147472    \n",
      "                                                                 \n",
      " max_pooling2d_6 (MaxPooling  (None, 4, 4, 16)         0         \n",
      " 2D)                                                             \n",
      "                                                                 \n",
      " dropout_4 (Dropout)         (None, 4, 4, 16)          0         \n",
      "                                                                 \n",
      " conv2d_7 (Conv2D)           (None, 4, 4, 32)          4640      \n",
      "                                                                 \n",
      " max_pooling2d_7 (MaxPooling  (None, 2, 2, 32)         0         \n",
      " 2D)                                                             \n",
      "                                                                 \n",
      " conv2d_8 (Conv2D)           (None, 2, 2, 64)          18496     \n",
      "                                                                 \n",
      " max_pooling2d_8 (MaxPooling  (None, 1, 1, 64)         0         \n",
      " 2D)                                                             \n",
      "                                                                 \n",
      " dropout_5 (Dropout)         (None, 1, 1, 64)          0         \n",
      "                                                                 \n",
      " flatten_2 (Flatten)         (None, 64)                0         \n",
      "                                                                 \n",
      " dense_4 (Dense)             (None, 128)               8320      \n",
      "                                                                 \n",
      " dense_5 (Dense)             (None, 157)               20253     \n",
      "                                                                 \n",
      "=================================================================\n",
      "Total params: 7,236,685\n",
      "Trainable params: 7,153,037\n",
      "Non-trainable params: 83,648\n",
      "_________________________________________________________________\n",
      "None\n"
     ]
    }
   ],
   "source": [
    "model = Sequential()\n",
    "\n",
    "model.add(tf.keras.layers.experimental.preprocessing.Rescaling(1./255, input_shape=(224,224,3)))\n",
    "\n",
    "model.add(base_model)\n",
    "\n",
    "model.add(Conv2D(16, 3, padding='same', activation='relu')) \n",
    "model.add(MaxPooling2D(padding='same'))\n",
    "model.add(Dropout(0.2)) \n",
    "\n",
    "model.add(Conv2D(32, 3, padding='same', activation='relu')) \n",
    "model.add(MaxPooling2D(padding='same'))\n",
    "\n",
    "model.add(Conv2D(64, 3, padding='same', activation='relu')) \n",
    "model.add(MaxPooling2D(padding='same'))\n",
    "model.add(Dropout(0.2)) \n",
    "\n",
    "model.add(Flatten())\n",
    "\n",
    "model.add(Dense(128, activation='relu'))\n",
    "model.add(Dense(157 , activation = 'softmax'))\n",
    "\n",
    "print(model.summary())"
   ]
  },
  {
   "cell_type": "markdown",
   "metadata": {},
   "source": [
    "#### Training"
   ]
  },
  {
   "cell_type": "code",
   "execution_count": 111,
   "metadata": {},
   "outputs": [],
   "source": [
    "model.compile(\n",
    "    loss=tf.keras.losses.categorical_crossentropy, \n",
    "    optimizer=tf.keras.optimizers.Adam(learning_rate=0.0001), \n",
    "    metrics=['accuracy']\n",
    "    )"
   ]
  },
  {
   "cell_type": "code",
   "execution_count": 113,
   "metadata": {},
   "outputs": [
    {
     "name": "stdout",
     "output_type": "stream",
     "text": [
      "Epoch 1/50\n",
      "2926/2926 [==============================] - 6749s 2s/step - loss: 2.3321 - accuracy: 0.3877 - val_loss: 1.5366 - val_accuracy: 0.5882\n",
      "Epoch 2/50\n",
      "2926/2926 [==============================] - 7027s 2s/step - loss: 1.5358 - accuracy: 0.5788 - val_loss: 1.0958 - val_accuracy: 0.7084\n",
      "Epoch 3/50\n",
      "2926/2926 [==============================] - 5717s 2s/step - loss: 1.1461 - accuracy: 0.6776 - val_loss: 1.0057 - val_accuracy: 0.7321\n",
      "Epoch 4/50\n",
      "2926/2926 [==============================] - 6957s 2s/step - loss: 0.9022 - accuracy: 0.7431 - val_loss: 0.8565 - val_accuracy: 0.7709\n",
      "Epoch 5/50\n",
      "2926/2926 [==============================] - 5959s 2s/step - loss: 0.7448 - accuracy: 0.7856 - val_loss: 0.8485 - val_accuracy: 0.7824\n",
      "Epoch 6/50\n",
      "2926/2926 [==============================] - 7351s 3s/step - loss: 0.6351 - accuracy: 0.8174 - val_loss: 0.7793 - val_accuracy: 0.8032\n",
      "Epoch 7/50\n",
      "2926/2926 [==============================] - 6927s 2s/step - loss: 0.5469 - accuracy: 0.8411 - val_loss: 0.7781 - val_accuracy: 0.8146\n",
      "Epoch 8/50\n",
      "2926/2926 [==============================] - 7749s 3s/step - loss: 0.4769 - accuracy: 0.8602 - val_loss: 0.7295 - val_accuracy: 0.8270\n",
      "Epoch 9/50\n",
      "2926/2926 [==============================] - 7288s 2s/step - loss: 0.4274 - accuracy: 0.8752 - val_loss: 0.7564 - val_accuracy: 0.8222\n",
      "Epoch 10/50\n",
      "2926/2926 [==============================] - 7472s 3s/step - loss: 0.3828 - accuracy: 0.8890 - val_loss: 0.7763 - val_accuracy: 0.8277\n",
      "Epoch 11/50\n",
      "2926/2926 [==============================] - 7664s 3s/step - loss: 0.3485 - accuracy: 0.8982 - val_loss: 0.8447 - val_accuracy: 0.8112\n"
     ]
    }
   ],
   "source": [
    "history = model.fit(\n",
    "    train_images, \n",
    "    batch_size=128, \n",
    "    epochs=50, \n",
    "    validation_data=val_images,\n",
    "    callbacks=[\n",
    "        tf.keras.callbacks.EarlyStopping(\n",
    "            monitor='val_loss',\n",
    "            patience=3,\n",
    "            restore_best_weights=True\n",
    "            )\n",
    "        ]\n",
    "    )"
   ]
  },
  {
   "cell_type": "code",
   "execution_count": 116,
   "metadata": {},
   "outputs": [
    {
     "data": {
      "text/plain": [
       "<matplotlib.legend.Legend at 0x1ad49550160>"
      ]
     },
     "execution_count": 116,
     "metadata": {},
     "output_type": "execute_result"
    },
    {
     "data": {
      "image/png": "[encoded data removed]",
      "text/plain": [
       "<Figure size 640x480 with 1 Axes>"
      ]
     },
     "metadata": {},
     "output_type": "display_data"
    }
   ],
   "source": [
    "plt.plot(history.history[\"loss\"], label=\"Training Loss\")\n",
    "plt.plot(history.history[\"val_loss\"], label=\"Validation Loss\")\n",
    "plt.legend()"
   ]
  },
  {
   "cell_type": "code",
   "execution_count": 117,
   "metadata": {},
   "outputs": [
    {
     "data": {
      "text/plain": [
       "<matplotlib.legend.Legend at 0x1ad493d2c70>"
      ]
     },
     "execution_count": 117,
     "metadata": {},
     "output_type": "execute_result"
    },
    {
     "data": {
      "image/png": "[encoded data removed]",
      "text/plain": [
       "<Figure size 640x480 with 1 Axes>"
      ]
     },
     "metadata": {},
     "output_type": "display_data"
    }
   ],
   "source": [
    "plt.plot(history.history[\"accuracy\"], label=\"Training Accuracy\")\n",
    "plt.plot(history.history[\"val_accuracy\"], label=\"Validation Accuracy\")\n",
    "plt.legend()"
   ]
  },
  {
   "cell_type": "code",
   "execution_count": null,
   "metadata": {},
   "outputs": [
    {
     "name": "stderr",
     "output_type": "stream",
     "text": [
      "c:\\Users\\windowadmin5.WIN-TAQQ3RO5V1L\\Desktop\\COA 9조\\python-3.8.10-embed-amd64\\Lib\\site-packages\\PIL\\Image.py:975: UserWarning: Palette images with Transparency expressed in bytes should be converted to RGBA images\n",
      "  warnings.warn(\n"
     ]
    },
    {
     "name": "stdout",
     "output_type": "stream",
     "text": [
      "Test Accuracy: 82.19%\n"
     ]
    }
   ],
   "source": [
    "results = model.evaluate(test_images, verbose=0)\n",
    "print(\"Test Accuracy: {:.2f}%\".format(results[1] * 100))"
   ]
  },
  {
   "cell_type": "markdown",
   "metadata": {},
   "source": [
    "#### Save Model"
   ]
  },
  {
   "cell_type": "code",
   "execution_count": 114,
   "metadata": {},
   "outputs": [],
   "source": [
    "model.save('../models/densenet.h5')"
   ]
  }
 ],
 "metadata": {
  "kernelspec": {
   "display_name": "Python 3",
   "language": "python",
   "name": "python3"
  },
  "language_info": {
   "codemirror_mode": {
    "name": "ipython",
    "version": 3
   },
   "file_extension": ".py",
   "mimetype": "text/x-python",
   "name": "python",
   "nbconvert_exporter": "python",
   "pygments_lexer": "ipython3",
   "version": "3.8.10"
  }
 },
 "nbformat": 4,
 "nbformat_minor": 2
}
