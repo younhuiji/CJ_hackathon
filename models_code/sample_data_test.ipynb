{
 "cells": [
  {
   "cell_type": "markdown",
   "metadata": {},
   "source": [
    "#### Creating File DataFrame"
   ]
  },
  {
   "cell_type": "markdown",
   "metadata": {},
   "source": [
    "- 데이터 출처\n",
    "    - https://open.selectstar.ai/ko/?page_id=5976\n",
    "    - https://aihub.or.kr/aihubdata/data/view.do?currMenu=&topMenu=&aihubDataSe=realm&dataSetSn=242\n",
    "    - https://aihub.or.kr/aihubdata/data/view.do?currMenu=&topMenu=&aihubDataSe=realm&dataSetSn=79"
   ]
  },
  {
   "cell_type": "code",
   "execution_count": 66,
   "metadata": {},
   "outputs": [],
   "source": [
    "import pandas as pd\n",
    "import numpy as np\n",
    "import os\n",
    "import json\n",
    "import random\n",
    "from natsort import natsorted\n",
    "from pathlib import Path\n",
    "import matplotlib.pyplot as plt\n",
    "import seaborn as sns"
   ]
  },
  {
   "cell_type": "code",
   "execution_count": 2,
   "metadata": {},
   "outputs": [],
   "source": [
    "BASE_PATH = '../data'\n",
    "\n",
    "dir_path = Path(BASE_PATH)"
   ]
  },
  {
   "cell_type": "code",
   "execution_count": 3,
   "metadata": {},
   "outputs": [
    {
     "name": "stdout",
     "output_type": "stream",
     "text": [
      "84748 84748\n"
     ]
    }
   ],
   "source": [
    "food1_ps = list(dir_path.joinpath('food1').rglob(\"*.png\"))\n",
    "food1_paths = []\n",
    "\n",
    "for i in food1_ps:\n",
    "    if i.stem.startswith(('._', 'BBQ', 'bingsu', 'cake', 'chicken', 'coffee_hot', 'coffee_ice', 'galbi', 'serial', 'soup', 'pasta', 'chicken')) == True:\n",
    "        pass\n",
    "    else:\n",
    "        food1_paths.append(i)\n",
    "        \n",
    "food1_labels = list(map(lambda x: os.path.split(x)[0].split('\\\\')[3], food1_paths))\n",
    "\n",
    "print(len(food1_paths), len(food1_labels))"
   ]
  },
  {
   "cell_type": "code",
   "execution_count": 4,
   "metadata": {},
   "outputs": [
    {
     "data": {
      "text/plain": [
       "130"
      ]
     },
     "execution_count": 4,
     "metadata": {},
     "output_type": "execute_result"
    }
   ],
   "source": [
    "food2_cate = []\n",
    "\n",
    "for (root, directories, files) in os.walk(dir_path.joinpath('food2')):\n",
    "    for d in directories:\n",
    "        category = os.path.join(root, d).split('\\\\')[-1]\n",
    "        food2_cate.append(category)\n",
    "\n",
    "len(food2_cate)"
   ]
  },
  {
   "cell_type": "code",
   "execution_count": 5,
   "metadata": {},
   "outputs": [
    {
     "name": "stdout",
     "output_type": "stream",
     "text": [
      "143574 143574\n"
     ]
    }
   ],
   "source": [
    "food2_paths = []\n",
    "\n",
    "for category in food2_cate:\n",
    "    if len(list(dir_path.joinpath(f'food2/{category}').rglob(\"*.jpg\"))) > 1300:\n",
    "        random_elements = random.sample(list(dir_path.joinpath(f'food2/{category}').rglob(\"*.jpg\")), 1300)\n",
    "        food2_paths.extend(random_elements)\n",
    "    else :\n",
    "        small = list(dir_path.joinpath(f'food2/{category}').rglob(\"*.jpg\"))\n",
    "        food2_paths.extend(small)\n",
    "\n",
    "food2_labels = list(map(lambda x: os.path.split(x)[0].split('\\\\')[3], food2_paths))\n",
    "\n",
    "print(len(food2_paths), len(food2_labels))"
   ]
  },
  {
   "cell_type": "code",
   "execution_count": 6,
   "metadata": {},
   "outputs": [
    {
     "name": "stdout",
     "output_type": "stream",
     "text": [
      "40261 39\n"
     ]
    }
   ],
   "source": [
    "food3_paths = list(dir_path.joinpath('food3').rglob(\"*.jpg\"))\n",
    "\n",
    "food3_png = list(dir_path.joinpath('food3').rglob(\"*.png\"))\n",
    "\n",
    "print(len(food3_paths), len(food3_png))"
   ]
  },
  {
   "cell_type": "code",
   "execution_count": 7,
   "metadata": {},
   "outputs": [
    {
     "data": {
      "text/plain": [
       "40261"
      ]
     },
     "execution_count": 7,
     "metadata": {},
     "output_type": "execute_result"
    }
   ],
   "source": [
    "food3_labels = list(map(lambda x: os.path.split(x)[0].split('\\\\')[3], food3_paths))\n",
    "\n",
    "len(food3_labels)"
   ]
  },
  {
   "cell_type": "code",
   "execution_count": 8,
   "metadata": {},
   "outputs": [
    {
     "name": "stdout",
     "output_type": "stream",
     "text": [
      "268583 268583\n"
     ]
    }
   ],
   "source": [
    "all_image_paths = food1_paths + food2_paths + food3_paths\n",
    "all_labels = food1_labels + food2_labels + food3_labels\n",
    "\n",
    "print(len(all_image_paths), len(all_labels))"
   ]
  },
  {
   "cell_type": "code",
   "execution_count": 48,
   "metadata": {},
   "outputs": [],
   "source": [
    "image_series = pd.Series(all_image_paths, name='imagepath').astype(str)\n",
    "labels_series = pd.Series(all_labels, name='label')\n",
    "\n",
    "images_df = pd.concat([image_series, labels_series], axis=1)"
   ]
  },
  {
   "cell_type": "code",
   "execution_count": 49,
   "metadata": {},
   "outputs": [
    {
     "data": {
      "text/html": [
       "<div>\n",
       "<style scoped>\n",
       "    .dataframe tbody tr th:only-of-type {\n",
       "        vertical-align: middle;\n",
       "    }\n",
       "\n",
       "    .dataframe tbody tr th {\n",
       "        vertical-align: top;\n",
       "    }\n",
       "\n",
       "    .dataframe thead th {\n",
       "        text-align: right;\n",
       "    }\n",
       "</style>\n",
       "<table border=\"1\" class=\"dataframe\">\n",
       "  <thead>\n",
       "    <tr style=\"text-align: right;\">\n",
       "      <th></th>\n",
       "      <th>imagepath</th>\n",
       "      <th>label</th>\n",
       "    </tr>\n",
       "  </thead>\n",
       "  <tbody>\n",
       "    <tr>\n",
       "      <th>0</th>\n",
       "      <td>..\\data\\food1\\baek_sook\\png\\baek_sook_0001.png</td>\n",
       "      <td>baek_sook</td>\n",
       "    </tr>\n",
       "    <tr>\n",
       "      <th>1</th>\n",
       "      <td>..\\data\\food1\\baek_sook\\png\\baek_sook_0002.png</td>\n",
       "      <td>baek_sook</td>\n",
       "    </tr>\n",
       "    <tr>\n",
       "      <th>2</th>\n",
       "      <td>..\\data\\food1\\baek_sook\\png\\baek_sook_0003.png</td>\n",
       "      <td>baek_sook</td>\n",
       "    </tr>\n",
       "    <tr>\n",
       "      <th>3</th>\n",
       "      <td>..\\data\\food1\\baek_sook\\png\\baek_sook_0004.png</td>\n",
       "      <td>baek_sook</td>\n",
       "    </tr>\n",
       "    <tr>\n",
       "      <th>4</th>\n",
       "      <td>..\\data\\food1\\baek_sook\\png\\baek_sook_0005.png</td>\n",
       "      <td>baek_sook</td>\n",
       "    </tr>\n",
       "  </tbody>\n",
       "</table>\n",
       "</div>"
      ],
      "text/plain": [
       "                                        imagepath      label\n",
       "0  ..\\data\\food1\\baek_sook\\png\\baek_sook_0001.png  baek_sook\n",
       "1  ..\\data\\food1\\baek_sook\\png\\baek_sook_0002.png  baek_sook\n",
       "2  ..\\data\\food1\\baek_sook\\png\\baek_sook_0003.png  baek_sook\n",
       "3  ..\\data\\food1\\baek_sook\\png\\baek_sook_0004.png  baek_sook\n",
       "4  ..\\data\\food1\\baek_sook\\png\\baek_sook_0005.png  baek_sook"
      ]
     },
     "execution_count": 49,
     "metadata": {},
     "output_type": "execute_result"
    }
   ],
   "source": [
    "images_df.head()"
   ]
  },
  {
   "cell_type": "code",
   "execution_count": 50,
   "metadata": {},
   "outputs": [
    {
     "data": {
      "text/plain": [
       "label\n",
       "caesar_salad            1300\n",
       "toast                   1300\n",
       "dumpling                1300\n",
       "fish_cutlet             1300\n",
       "fried_chicken           1300\n",
       "                        ... \n",
       "chilled_jokbal_salad     312\n",
       "sundaegukbap             305\n",
       "mushroom                 248\n",
       "fried_food               223\n",
       "tteokgalbi               164\n",
       "Name: count, Length: 253, dtype: int64"
      ]
     },
     "execution_count": 50,
     "metadata": {},
     "output_type": "execute_result"
    }
   ],
   "source": [
    "images_df['label'].value_counts()"
   ]
  },
  {
   "cell_type": "code",
   "execution_count": 37,
   "metadata": {},
   "outputs": [
    {
     "data": {
      "text/plain": [
       "{'baek_sook': 0,\n",
       " 'baguette': 1,\n",
       " 'banh_mi': 2,\n",
       " 'beef_tartare': 3,\n",
       " 'bibimbap': 4,\n",
       " 'bulgogi': 5,\n",
       " 'bunza': 6,\n",
       " 'burger': 7,\n",
       " 'burrito': 8,\n",
       " 'cannoli': 9,\n",
       " 'caprese': 10,\n",
       " 'chili_crab': 11,\n",
       " 'chocolate': 12,\n",
       " 'churros': 13,\n",
       " 'cookie': 14,\n",
       " 'crepe': 15,\n",
       " 'croissant': 16,\n",
       " 'croque_monsieur': 17,\n",
       " 'curry': 18,\n",
       " 'dacquoise': 19,\n",
       " 'dim_sum': 20,\n",
       " 'donut': 21,\n",
       " 'egg_benedict': 22,\n",
       " 'egg_tart': 23,\n",
       " 'escargot': 24,\n",
       " 'fish_and_chips': 25,\n",
       " 'fondue': 26,\n",
       " 'french_fries': 27,\n",
       " 'french_toast': 28,\n",
       " 'gelato': 29,\n",
       " 'gimbap': 30,\n",
       " 'gratin': 31,\n",
       " 'hot_dog': 32,\n",
       " 'hot_pot': 33,\n",
       " 'jajangmyeon': 34,\n",
       " 'japchae': 35,\n",
       " 'kaya_toast': 36,\n",
       " 'kebap': 37,\n",
       " 'kimchi_stew': 38,\n",
       " 'korean_pancake': 39,\n",
       " 'lasana': 40,\n",
       " 'lobster': 41,\n",
       " 'macaroon': 42,\n",
       " 'madeleine': 43,\n",
       " 'mapa_tofu': 44,\n",
       " 'milfeuille': 45,\n",
       " 'muffin': 46,\n",
       " 'naan': 47,\n",
       " 'nachos': 48,\n",
       " 'nasi_goreng': 49,\n",
       " 'omelet': 50,\n",
       " 'onigiri': 51,\n",
       " 'pad_thai': 52,\n",
       " 'paea': 53,\n",
       " 'pan_cake': 54,\n",
       " 'pie': 55,\n",
       " 'pizza': 56,\n",
       " 'popcorn': 57,\n",
       " 'pork_chop': 58,\n",
       " 'pound_cake': 59,\n",
       " 'pudding': 60,\n",
       " 'quesadilla': 61,\n",
       " 'ramen': 62,\n",
       " 'ratatouille': 63,\n",
       " 'rice_noodle': 64,\n",
       " 'risotto': 65,\n",
       " 'salad': 66,\n",
       " 'sandwich': 67,\n",
       " 'sashimi': 68,\n",
       " 'schweinshaxe': 69,\n",
       " 'seaweed_soup': 70,\n",
       " 'soba': 71,\n",
       " 'somtam': 72,\n",
       " 'steak': 73,\n",
       " 'sushi': 74,\n",
       " 'taco': 75,\n",
       " 'takoyaki': 76,\n",
       " 'tiramisu': 77,\n",
       " 'tortilla': 78,\n",
       " 'tteokbokki': 79,\n",
       " 'udon': 80,\n",
       " 'waffle': 81,\n",
       " 'wolnam_ssam': 82,\n",
       " 'abalone': 83,\n",
       " 'agwi_jjim': 84,\n",
       " 'almond': 85,\n",
       " 'bacon': 86,\n",
       " 'beef_jerky': 87,\n",
       " 'bossam': 88,\n",
       " 'brazil_nuts': 89,\n",
       " 'brownie': 90,\n",
       " 'caesar_salad': 91,\n",
       " 'cake': 92,\n",
       " 'canapés': 93,\n",
       " 'canned_fruit': 94,\n",
       " 'carbonara': 95,\n",
       " 'carrot_cake': 96,\n",
       " 'cheddar_cheese': 97,\n",
       " 'cheese': 98,\n",
       " 'chicken_breast': 99,\n",
       " 'chicken_breast_salad': 100,\n",
       " 'chicken_nuggets': 101,\n",
       " 'chilled_jokbal_salad': 102,\n",
       " 'chocolate_cake': 103,\n",
       " 'chocolate_muffin': 104,\n",
       " 'cracker': 105,\n",
       " 'cream_cheese': 106,\n",
       " 'cream_pasta': 107,\n",
       " 'dakbal': 108,\n",
       " 'dakgalbi': 109,\n",
       " 'doenjangjjigae': 110,\n",
       " 'doriyaki': 111,\n",
       " 'dried_squid': 112,\n",
       " 'dumpling': 113,\n",
       " 'fishcake_soup': 114,\n",
       " 'fish_cutlet': 115,\n",
       " 'fried_chicken': 116,\n",
       " 'fried_food': 117,\n",
       " 'fried_rice': 118,\n",
       " 'fried_shrimp': 119,\n",
       " 'fried_squid': 120,\n",
       " 'fried_tofu': 121,\n",
       " 'fruit_vegetable_salad': 122,\n",
       " 'galbi': 123,\n",
       " 'galbijjim': 124,\n",
       " 'galbitang': 125,\n",
       " 'garaetteok': 126,\n",
       " 'gejang': 127,\n",
       " 'gochujangbulgogi': 128,\n",
       " 'gopchangjeongol': 129,\n",
       " 'gorgonzola_pizza': 130,\n",
       " 'gotgam': 131,\n",
       " 'grilled_beef': 132,\n",
       " 'grilled_chicken_breast': 133,\n",
       " 'grilled_duck': 134,\n",
       " 'grilled_eel': 135,\n",
       " 'grilled_fish': 136,\n",
       " 'grilled_mackerel': 137,\n",
       " 'grilled_pork': 138,\n",
       " 'grilled_salmon': 139,\n",
       " 'grilled_shrimp': 140,\n",
       " 'haejangguk': 141,\n",
       " 'haemuljjim': 142,\n",
       " 'haemultang': 143,\n",
       " 'ham': 144,\n",
       " 'hamburg_steak': 145,\n",
       " 'hawaiian_pizza': 146,\n",
       " 'jjimdak': 147,\n",
       " 'jokbal': 148,\n",
       " 'jukkumibokkeum': 149,\n",
       " 'kkanpunggi': 150,\n",
       " 'lamb_skewers': 151,\n",
       " 'melon': 152,\n",
       " 'mushroom': 153,\n",
       " 'myeongnanjeot': 154,\n",
       " 'naengmyeon': 155,\n",
       " 'nagasaki_seafood_noodles': 156,\n",
       " 'nakjibokkeum': 157,\n",
       " 'noodles': 158,\n",
       " 'octopus': 159,\n",
       " 'okonomiyaki': 160,\n",
       " 'olive': 161,\n",
       " 'pajeon': 162,\n",
       " 'pan_fried_dumpling': 163,\n",
       " 'pasta': 164,\n",
       " 'pepperoni_pizza': 165,\n",
       " 'pineapple': 166,\n",
       " 'pork_cutlet': 167,\n",
       " 'pork_galbijjim': 168,\n",
       " 'pork_ribs': 169,\n",
       " 'ramyun': 170,\n",
       " 'rice': 171,\n",
       " 'rice_crackers': 172,\n",
       " 'ricotta_cheese': 173,\n",
       " 'rolled_omelet': 174,\n",
       " 'roll_cake': 175,\n",
       " 'salmon_salad': 176,\n",
       " 'salmon_sashimi': 177,\n",
       " 'salmon_sushi': 178,\n",
       " 'samgyeopsal': 179,\n",
       " 'sausage': 180,\n",
       " 'seasoned_fried_chicken': 181,\n",
       " 'sea_cucumber': 182,\n",
       " 'sirloin_steak': 183,\n",
       " 'smoked_duck': 184,\n",
       " 'smoked_duck_salad': 185,\n",
       " 'spicy_noodles': 186,\n",
       " 'squid': 187,\n",
       " 'steamed_eggs': 188,\n",
       " 'stew': 189,\n",
       " 'stir_fried_seafood': 190,\n",
       " 'strawberry': 191,\n",
       " 'sukjunamul': 192,\n",
       " 'sundae': 193,\n",
       " 'sundaebokkeum': 194,\n",
       " 'sundaegukbap': 195,\n",
       " 'sundubujjigae': 196,\n",
       " 'sutbuldakgalbi': 197,\n",
       " 'sweet_potato': 198,\n",
       " 'tenderloin_steak': 199,\n",
       " 'teriyaki_chicken': 200,\n",
       " 'toast': 201,\n",
       " 'tofu': 202,\n",
       " 'tomato_salad': 203,\n",
       " 'tongdak': 204,\n",
       " 'tteokgalbi': 205,\n",
       " 'tteokguk': 206,\n",
       " 'tuna_sashimi': 207,\n",
       " 'vanilla_icecream': 208,\n",
       " 'vongole_pasta': 209,\n",
       " 'walnut': 210,\n",
       " 'walnut_pie': 211,\n",
       " 'whipped_cream_cake': 212,\n",
       " 'bean_sprout_salad': 213,\n",
       " 'bean_sprout_soup': 214,\n",
       " 'chueotang': 215,\n",
       " 'cone_sushi': 216,\n",
       " 'dakbokkeumtang': 217,\n",
       " 'dotorimuk': 218,\n",
       " 'dubujorim': 219,\n",
       " 'dubukimchi': 220,\n",
       " 'egg_soup': 221,\n",
       " 'galchijorim': 222,\n",
       " 'gamjajorim': 223,\n",
       " 'gamjatang': 224,\n",
       " 'godeungeojorim': 225,\n",
       " 'gopchanggui': 226,\n",
       " 'grilled_clams': 227,\n",
       " 'grilled_deodeok': 228,\n",
       " 'gwamegi': 229,\n",
       " 'hobakjeon': 230,\n",
       " 'hoemuchim': 231,\n",
       " 'kalguksu': 232,\n",
       " 'kimchijjim': 233,\n",
       " 'kimchi_pancake': 234,\n",
       " 'kkomakjjim': 235,\n",
       " 'kodarijorim': 236,\n",
       " 'maeuntang': 237,\n",
       " 'makguksu': 238,\n",
       " 'meat_fritters': 239,\n",
       " 'mulhoe': 240,\n",
       " 'nurungji': 241,\n",
       " 'peanutsjorim': 242,\n",
       " 'potato_pancake': 243,\n",
       " 'sannakji': 244,\n",
       " 'siraegiguk': 245,\n",
       " 'spinach_salad': 246,\n",
       " 'stir_fried_eggplant': 247,\n",
       " 'sujebi': 248,\n",
       " 'tteok_kkochi': 249,\n",
       " 'white_kimchi': 250,\n",
       " 'yakgwa': 251,\n",
       " 'yeolmukimchi': 252}"
      ]
     },
     "execution_count": 37,
     "metadata": {},
     "output_type": "execute_result"
    }
   ],
   "source": [
    "# category = list(images_df['label'].unique())\n",
    "\n",
    "# labels_id = {string:idx for idx, string in enumerate (category)}\n",
    "\n",
    "# for category in category:\n",
    "#     images_df['label'] = images_df['label'].replace(category, labels_id[category])\n",
    "\n",
    "# images_df['label']\n"
   ]
  },
  {
   "cell_type": "markdown",
   "metadata": {},
   "source": [
    "#### Setting"
   ]
  },
  {
   "cell_type": "code",
   "execution_count": 74,
   "metadata": {},
   "outputs": [],
   "source": [
    "from sklearn.model_selection import train_test_split\n",
    "from sklearn.metrics import confusion_matrix, classification_report\n",
    "\n",
    "from tensorflow.keras.applications.vgg16 import VGG16\n",
    "from tensorflow.keras.layers import Dense, Conv2D, MaxPooling2D, Flatten, BatchNormalization, ReLU, Dropout, GlobalAveragePooling2D\n",
    "from tensorflow.keras.models import Sequential\n",
    "\n",
    "import tensorflow as tf\n",
    "\n",
    "from keras.models import load_model"
   ]
  },
  {
   "cell_type": "code",
   "execution_count": 13,
   "metadata": {},
   "outputs": [],
   "source": [
    "np.random.seed(42)\n",
    "tf.random.set_seed(42)"
   ]
  },
  {
   "cell_type": "code",
   "execution_count": 14,
   "metadata": {},
   "outputs": [
    {
     "name": "stdout",
     "output_type": "stream",
     "text": [
      "[name: \"/device:CPU:0\"\n",
      "device_type: \"CPU\"\n",
      "memory_limit: 268435456\n",
      "locality {\n",
      "}\n",
      "incarnation: 8038629424490720911\n",
      "xla_global_id: -1\n",
      ", name: \"/device:GPU:0\"\n",
      "device_type: \"GPU\"\n",
      "memory_limit: 13059315712\n",
      "locality {\n",
      "  bus_id: 1\n",
      "  links {\n",
      "  }\n",
      "}\n",
      "incarnation: 7516719456982811015\n",
      "physical_device_desc: \"device: 0, name: Quadro RTX 5000, pci bus id: 0000:03:00.0, compute capability: 7.5\"\n",
      "xla_global_id: 416903419\n",
      ", name: \"/device:GPU:1\"\n",
      "device_type: \"GPU\"\n",
      "memory_limit: 13059315712\n",
      "locality {\n",
      "  bus_id: 1\n",
      "  links {\n",
      "  }\n",
      "}\n",
      "incarnation: 499915547328934630\n",
      "physical_device_desc: \"device: 1, name: Quadro RTX 5000, pci bus id: 0000:81:00.0, compute capability: 7.5\"\n",
      "xla_global_id: 2144165316\n",
      "]\n",
      "───────────────────────────────────────\n",
      "am I using GPU?:  True\n"
     ]
    }
   ],
   "source": [
    "# GPU 사용여부 확인하기\n",
    "from tensorflow.python.client import device_lib\n",
    "\n",
    "print(device_lib.list_local_devices()) # print avaliable CPU, GPU list\n",
    "print(\"───────────────────────────────────────\")\n",
    "print(\"am I using GPU?: \", bool(tf.config.list_physical_devices('GPU'))) # NVIDIA Quadro RTX 5000"
   ]
  },
  {
   "cell_type": "markdown",
   "metadata": {},
   "source": [
    "#### Sample Data Test"
   ]
  },
  {
   "cell_type": "code",
   "execution_count": 52,
   "metadata": {},
   "outputs": [],
   "source": [
    "category_samples = []\n",
    "for category in images_df['label'].unique():\n",
    "    category_slice = images_df.query(\"label == @category\")\n",
    "    category_samples.append(category_slice.sample(100, random_state=42))\n",
    "sample_df = pd.concat(category_samples, axis=0).sample(frac=1.0, random_state=42).reset_index(drop=True)"
   ]
  },
  {
   "cell_type": "code",
   "execution_count": 53,
   "metadata": {},
   "outputs": [
    {
     "data": {
      "text/html": [
       "<div>\n",
       "<style scoped>\n",
       "    .dataframe tbody tr th:only-of-type {\n",
       "        vertical-align: middle;\n",
       "    }\n",
       "\n",
       "    .dataframe tbody tr th {\n",
       "        vertical-align: top;\n",
       "    }\n",
       "\n",
       "    .dataframe thead th {\n",
       "        text-align: right;\n",
       "    }\n",
       "</style>\n",
       "<table border=\"1\" class=\"dataframe\">\n",
       "  <thead>\n",
       "    <tr style=\"text-align: right;\">\n",
       "      <th></th>\n",
       "      <th>imagepath</th>\n",
       "      <th>label</th>\n",
       "    </tr>\n",
       "  </thead>\n",
       "  <tbody>\n",
       "    <tr>\n",
       "      <th>0</th>\n",
       "      <td>..\\data\\food2\\walnut_pie\\A020525XX_30208.jpg</td>\n",
       "      <td>walnut_pie</td>\n",
       "    </tr>\n",
       "    <tr>\n",
       "      <th>1</th>\n",
       "      <td>..\\data\\food1\\chocolate\\png\\chocolate_0617.png</td>\n",
       "      <td>chocolate</td>\n",
       "    </tr>\n",
       "    <tr>\n",
       "      <th>2</th>\n",
       "      <td>..\\data\\food1\\tortilla\\png\\tortilla_0287.png</td>\n",
       "      <td>tortilla</td>\n",
       "    </tr>\n",
       "    <tr>\n",
       "      <th>3</th>\n",
       "      <td>..\\data\\food1\\croissant\\png\\croissant_0817.png</td>\n",
       "      <td>croissant</td>\n",
       "    </tr>\n",
       "    <tr>\n",
       "      <th>4</th>\n",
       "      <td>..\\data\\food1\\lasana\\png\\lasagna_0957.png</td>\n",
       "      <td>lasana</td>\n",
       "    </tr>\n",
       "  </tbody>\n",
       "</table>\n",
       "</div>"
      ],
      "text/plain": [
       "                                        imagepath       label\n",
       "0    ..\\data\\food2\\walnut_pie\\A020525XX_30208.jpg  walnut_pie\n",
       "1  ..\\data\\food1\\chocolate\\png\\chocolate_0617.png   chocolate\n",
       "2    ..\\data\\food1\\tortilla\\png\\tortilla_0287.png    tortilla\n",
       "3  ..\\data\\food1\\croissant\\png\\croissant_0817.png   croissant\n",
       "4       ..\\data\\food1\\lasana\\png\\lasagna_0957.png      lasana"
      ]
     },
     "execution_count": 53,
     "metadata": {},
     "output_type": "execute_result"
    }
   ],
   "source": [
    "sample_df.head()"
   ]
  },
  {
   "cell_type": "code",
   "execution_count": 54,
   "metadata": {},
   "outputs": [
    {
     "data": {
      "text/plain": [
       "label\n",
       "walnut_pie              100\n",
       "potato_pancake          100\n",
       "chicken_nuggets         100\n",
       "chicken_breast_salad    100\n",
       "sea_cucumber            100\n",
       "                       ... \n",
       "egg_benedict            100\n",
       "dubujorim               100\n",
       "dakbal                  100\n",
       "tomato_salad            100\n",
       "madeleine               100\n",
       "Name: count, Length: 253, dtype: int64"
      ]
     },
     "execution_count": 54,
     "metadata": {},
     "output_type": "execute_result"
    }
   ],
   "source": [
    "sample_df['label'].value_counts()"
   ]
  },
  {
   "cell_type": "markdown",
   "metadata": {},
   "source": [
    "##### Train-Test Split"
   ]
  },
  {
   "cell_type": "code",
   "execution_count": 55,
   "metadata": {},
   "outputs": [],
   "source": [
    "sample_train_df, sample_test_df = train_test_split(sample_df, test_size=0.2, shuffle=True, random_state=42)"
   ]
  },
  {
   "cell_type": "markdown",
   "metadata": {},
   "source": [
    "##### Creating Generators"
   ]
  },
  {
   "cell_type": "code",
   "execution_count": 51,
   "metadata": {},
   "outputs": [],
   "source": [
    "train_generator = tf.keras.preprocessing.image.ImageDataGenerator(\n",
    "    preprocessing_function=tf.keras.applications.vgg16.preprocess_input,\n",
    "    validation_split=0.2\n",
    ")\n",
    "\n",
    "test_generator = tf.keras.preprocessing.image.ImageDataGenerator(\n",
    "    preprocessing_function=tf.keras.applications.vgg16.preprocess_input\n",
    ")"
   ]
  },
  {
   "cell_type": "code",
   "execution_count": 56,
   "metadata": {},
   "outputs": [
    {
     "name": "stdout",
     "output_type": "stream",
     "text": [
      "Found 16192 validated image filenames belonging to 253 classes.\n",
      "Found 4048 validated image filenames belonging to 253 classes.\n",
      "Found 5060 validated image filenames belonging to 253 classes.\n"
     ]
    }
   ],
   "source": [
    "sample_train_images = train_generator.flow_from_dataframe(\n",
    "    dataframe=sample_train_df,\n",
    "    x_col='imagepath',\n",
    "    y_col='label',\n",
    "    target_size=(224, 224),\n",
    "    color_mode='rgb',\n",
    "    class_mode='categorical',\n",
    "    batch_size=32,\n",
    "    shuffle=True,\n",
    "    seed=42,\n",
    "    subset='training'\n",
    ")\n",
    "\n",
    "sample_val_images = train_generator.flow_from_dataframe(\n",
    "    dataframe=sample_train_df,\n",
    "    x_col='imagepath',\n",
    "    y_col='label',\n",
    "    target_size=(224, 224),\n",
    "    color_mode='rgb',\n",
    "    class_mode='categorical',\n",
    "    batch_size=32,\n",
    "    shuffle=True,\n",
    "    seed=42,\n",
    "    subset='validation'\n",
    ")\n",
    "\n",
    "sample_test_images = test_generator.flow_from_dataframe(\n",
    "    dataframe=sample_test_df,\n",
    "    x_col='imagepath',\n",
    "    y_col='label',\n",
    "    target_size=(224, 224),\n",
    "    color_mode='rgb',\n",
    "    class_mode='categorical',\n",
    "    batch_size=32,\n",
    "    shuffle=False\n",
    ")"
   ]
  },
  {
   "cell_type": "markdown",
   "metadata": {},
   "source": [
    "##### Modeling"
   ]
  },
  {
   "cell_type": "code",
   "execution_count": 21,
   "metadata": {},
   "outputs": [],
   "source": [
    "pretrained_model = VGG16(\n",
    "    input_shape=(224, 224, 3),\n",
    "    include_top=False,\n",
    "    weights='imagenet'\n",
    ")\n",
    "\n",
    "pretrained_model.trainable = False"
   ]
  },
  {
   "cell_type": "code",
   "execution_count": 22,
   "metadata": {},
   "outputs": [
    {
     "name": "stdout",
     "output_type": "stream",
     "text": [
      "Model: \"model\"\n",
      "_________________________________________________________________\n",
      " Layer (type)                Output Shape              Param #   \n",
      "=================================================================\n",
      " input_1 (InputLayer)        [(None, 224, 224, 3)]     0         \n",
      "                                                                 \n",
      " block1_conv1 (Conv2D)       (None, 224, 224, 64)      1792      \n",
      "                                                                 \n",
      " block1_conv2 (Conv2D)       (None, 224, 224, 64)      36928     \n",
      "                                                                 \n",
      " block1_pool (MaxPooling2D)  (None, 112, 112, 64)      0         \n",
      "                                                                 \n",
      " block2_conv1 (Conv2D)       (None, 112, 112, 128)     73856     \n",
      "                                                                 \n",
      " block2_conv2 (Conv2D)       (None, 112, 112, 128)     147584    \n",
      "                                                                 \n",
      " block2_pool (MaxPooling2D)  (None, 56, 56, 128)       0         \n",
      "                                                                 \n",
      " block3_conv1 (Conv2D)       (None, 56, 56, 256)       295168    \n",
      "                                                                 \n",
      " block3_conv2 (Conv2D)       (None, 56, 56, 256)       590080    \n",
      "                                                                 \n",
      " block3_conv3 (Conv2D)       (None, 56, 56, 256)       590080    \n",
      "                                                                 \n",
      " block3_pool (MaxPooling2D)  (None, 28, 28, 256)       0         \n",
      "                                                                 \n",
      " block4_conv1 (Conv2D)       (None, 28, 28, 512)       1180160   \n",
      "                                                                 \n",
      " block4_conv2 (Conv2D)       (None, 28, 28, 512)       2359808   \n",
      "                                                                 \n",
      " block4_conv3 (Conv2D)       (None, 28, 28, 512)       2359808   \n",
      "                                                                 \n",
      " block4_pool (MaxPooling2D)  (None, 14, 14, 512)       0         \n",
      "                                                                 \n",
      " block5_conv1 (Conv2D)       (None, 14, 14, 512)       2359808   \n",
      "                                                                 \n",
      " block5_conv2 (Conv2D)       (None, 14, 14, 512)       2359808   \n",
      "                                                                 \n",
      " block5_conv3 (Conv2D)       (None, 14, 14, 512)       2359808   \n",
      "                                                                 \n",
      " block5_pool (MaxPooling2D)  (None, 7, 7, 512)         0         \n",
      "                                                                 \n",
      " dense (Dense)               (None, 7, 7, 128)         65664     \n",
      "                                                                 \n",
      " global_average_pooling2d (G  (None, 128)              0         \n",
      " lobalAveragePooling2D)                                          \n",
      "                                                                 \n",
      " dense_1 (Dense)             (None, 128)               16512     \n",
      "                                                                 \n",
      " dense_2 (Dense)             (None, 253)               32637     \n",
      "                                                                 \n",
      "=================================================================\n",
      "Total params: 14,829,501\n",
      "Trainable params: 114,813\n",
      "Non-trainable params: 14,714,688\n",
      "_________________________________________________________________\n",
      "None\n"
     ]
    }
   ],
   "source": [
    "inputs = pretrained_model.input\n",
    "\n",
    "x = Dense(128, activation='relu')(pretrained_model.output)\n",
    "x = GlobalAveragePooling2D()(x)\n",
    "x = Dense(128, activation='relu')(x)\n",
    "\n",
    "outputs = Dense(253, activation='softmax')(x)\n",
    "\n",
    "sample_model = tf.keras.Model(inputs, outputs)\n",
    "\n",
    "\n",
    "print(sample_model.summary())"
   ]
  },
  {
   "cell_type": "markdown",
   "metadata": {},
   "source": [
    "##### Training"
   ]
  },
  {
   "cell_type": "code",
   "execution_count": 57,
   "metadata": {},
   "outputs": [
    {
     "name": "stdout",
     "output_type": "stream",
     "text": [
      "Epoch 1/5\n",
      "506/506 [==============================] - 1295s 3s/step - loss: 4.2650 - accuracy: 0.1461 - val_loss: 3.1683 - val_accuracy: 0.2769\n",
      "Epoch 2/5\n",
      "506/506 [==============================] - 798s 2s/step - loss: 2.5187 - accuracy: 0.3889 - val_loss: 2.6669 - val_accuracy: 0.3651\n",
      "Epoch 3/5\n",
      "506/506 [==============================] - 692s 1s/step - loss: 1.9058 - accuracy: 0.5114 - val_loss: 2.4685 - val_accuracy: 0.4111\n",
      "Epoch 4/5\n",
      "506/506 [==============================] - 797s 2s/step - loss: 1.5152 - accuracy: 0.5947 - val_loss: 2.3999 - val_accuracy: 0.4494\n",
      "Epoch 5/5\n",
      "506/506 [==============================] - 879s 2s/step - loss: 1.2365 - accuracy: 0.6630 - val_loss: 2.4654 - val_accuracy: 0.4447\n"
     ]
    }
   ],
   "source": [
    "sample_model.compile(\n",
    "    optimizer='adam',\n",
    "    loss='categorical_crossentropy',\n",
    "    metrics=['accuracy']\n",
    ")\n",
    "\n",
    "sample_history = sample_model.fit(\n",
    "    sample_train_images,\n",
    "    batch_size=128,\n",
    "    validation_data=sample_val_images,\n",
    "    epochs=5,\n",
    "    callbacks=[\n",
    "        tf.keras.callbacks.EarlyStopping(\n",
    "            monitor='val_loss',\n",
    "            patience=3,\n",
    "            restore_best_weights=True\n",
    "        )\n",
    "    ]\n",
    ")"
   ]
  },
  {
   "cell_type": "markdown",
   "metadata": {},
   "source": [
    "##### Results"
   ]
  },
  {
   "cell_type": "code",
   "execution_count": 60,
   "metadata": {},
   "outputs": [
    {
     "name": "stdout",
     "output_type": "stream",
     "text": [
      "Sample Test Accuracy: 43.44%\n"
     ]
    }
   ],
   "source": [
    "sample_results = sample_model.evaluate(sample_test_images, verbose=0)\n",
    "print(\"Sample Test Accuracy: {:.2f}%\".format(sample_results[1] * 100))"
   ]
  },
  {
   "cell_type": "code",
   "execution_count": 63,
   "metadata": {},
   "outputs": [],
   "source": [
    "sample_predictions = np.argmax(sample_model.predict(sample_test_images), axis=1)\n",
    "\n",
    "sample_cm = confusion_matrix(sample_test_images.labels, sample_predictions)\n",
    "sample_clr = classification_report(sample_test_images.labels, sample_predictions, target_names=sample_test_images.class_indices, zero_division=0)"
   ]
  },
  {
   "cell_type": "code",
   "execution_count": 68,
   "metadata": {},
   "outputs": [
    {
     "name": "stdout",
     "output_type": "stream",
     "text": [
      "Classification Report:\n",
      "----------------------\n",
      "                           precision    recall  f1-score   support\n",
      "\n",
      "                 abalone       0.88      0.78      0.82        27\n",
      "               agwi_jjim       0.43      0.73      0.54        22\n",
      "                  almond       0.71      0.91      0.80        22\n",
      "                   bacon       0.62      0.33      0.43        24\n",
      "               baek_sook       0.67      0.50      0.57        20\n",
      "                baguette       0.20      0.24      0.22        21\n",
      "                 banh_mi       0.50      0.43      0.47        23\n",
      "       bean_sprout_salad       0.75      0.67      0.71        18\n",
      "        bean_sprout_soup       0.53      0.42      0.47        19\n",
      "              beef_jerky       0.41      0.75      0.53        20\n",
      "            beef_tartare       0.45      0.39      0.42        23\n",
      "                bibimbap       0.56      0.38      0.45        24\n",
      "                  bossam       0.56      0.24      0.33        21\n",
      "             brazil_nuts       0.80      0.73      0.76        22\n",
      "                 brownie       0.33      0.32      0.32        19\n",
      "                 bulgogi       0.67      0.43      0.52        14\n",
      "                   bunza       0.60      0.39      0.47        23\n",
      "                  burger       1.00      0.83      0.91        12\n",
      "                 burrito       0.44      0.20      0.28        20\n",
      "            caesar_salad       0.18      0.55      0.27        22\n",
      "                    cake       0.14      0.04      0.06        24\n",
      "                 canapés       0.19      0.31      0.24        26\n",
      "            canned_fruit       0.43      0.62      0.51        16\n",
      "                 cannoli       0.48      0.92      0.63        12\n",
      "                 caprese       0.56      0.71      0.63        21\n",
      "               carbonara       1.00      0.05      0.09        21\n",
      "             carrot_cake       0.43      0.56      0.49        18\n",
      "          cheddar_cheese       0.57      0.81      0.67        21\n",
      "                  cheese       0.45      0.31      0.37        16\n",
      "          chicken_breast       0.18      0.16      0.17        19\n",
      "    chicken_breast_salad       1.00      0.04      0.08        23\n",
      "         chicken_nuggets       0.80      0.31      0.44        13\n",
      "              chili_crab       0.65      0.76      0.70        17\n",
      "    chilled_jokbal_salad       0.62      0.59      0.61        17\n",
      "               chocolate       0.17      0.40      0.24        20\n",
      "          chocolate_cake       0.27      0.56      0.36        18\n",
      "        chocolate_muffin       0.50      0.25      0.33        16\n",
      "               chueotang       0.36      0.20      0.26        25\n",
      "                 churros       0.54      0.67      0.60        21\n",
      "              cone_sushi       0.19      0.24      0.21        17\n",
      "                  cookie       0.34      0.59      0.43        22\n",
      "                 cracker       0.34      0.61      0.44        18\n",
      "            cream_cheese       0.33      0.17      0.23        23\n",
      "             cream_pasta       0.32      0.29      0.30        21\n",
      "                   crepe       0.35      0.37      0.36        19\n",
      "               croissant       0.77      0.67      0.71        15\n",
      "         croque_monsieur       0.22      0.28      0.24        18\n",
      "                   curry       0.83      0.31      0.45        16\n",
      "               dacquoise       0.37      0.45      0.41        22\n",
      "                  dakbal       0.95      0.82      0.88        22\n",
      "          dakbokkeumtang       0.28      0.50      0.36        18\n",
      "                dakgalbi       0.35      0.33      0.34        18\n",
      "                 dim_sum       0.50      0.65      0.57        20\n",
      "          doenjangjjigae       0.50      0.26      0.34        23\n",
      "                   donut       0.26      0.53      0.35        17\n",
      "                doriyaki       0.88      0.50      0.64        14\n",
      "               dotorimuk       0.25      0.05      0.08        21\n",
      "             dried_squid       0.90      0.41      0.56        22\n",
      "               dubujorim       0.41      0.57      0.48        21\n",
      "              dubukimchi       0.75      0.16      0.26        19\n",
      "                dumpling       0.60      0.15      0.24        20\n",
      "            egg_benedict       0.83      0.50      0.62        20\n",
      "                egg_soup       0.60      0.41      0.49        22\n",
      "                egg_tart       0.89      0.64      0.74        25\n",
      "                escargot       0.86      0.68      0.76        28\n",
      "          fish_and_chips       0.62      0.42      0.50        19\n",
      "             fish_cutlet       0.71      0.38      0.50        13\n",
      "           fishcake_soup       0.60      0.57      0.59        21\n",
      "                  fondue       0.94      0.79      0.86        19\n",
      "            french_fries       0.87      0.72      0.79        18\n",
      "            french_toast       0.50      0.35      0.41        20\n",
      "           fried_chicken       0.45      0.72      0.55        18\n",
      "              fried_food       0.62      0.42      0.50        19\n",
      "              fried_rice       0.37      0.58      0.45        19\n",
      "            fried_shrimp       0.38      0.68      0.49        25\n",
      "             fried_squid       0.73      0.62      0.67        26\n",
      "              fried_tofu       0.15      0.44      0.22        18\n",
      "   fruit_vegetable_salad       0.20      0.05      0.07        22\n",
      "                   galbi       0.31      0.40      0.35        20\n",
      "               galbijjim       0.36      0.23      0.28        22\n",
      "               galbitang       0.56      0.35      0.43        26\n",
      "             galchijorim       0.33      0.13      0.19        23\n",
      "              gamjajorim       0.91      0.50      0.65        20\n",
      "               gamjatang       0.33      0.14      0.20        21\n",
      "              garaetteok       0.83      0.65      0.73        23\n",
      "                  gejang       0.31      0.20      0.24        20\n",
      "                  gelato       0.62      0.24      0.34        21\n",
      "                  gimbap       0.73      0.67      0.70        12\n",
      "        gochujangbulgogi       0.19      0.33      0.24        15\n",
      "          godeungeojorim       0.31      0.23      0.26        22\n",
      "             gopchanggui       0.33      0.22      0.27        18\n",
      "         gopchangjeongol       0.56      0.19      0.29        26\n",
      "        gorgonzola_pizza       0.62      0.65      0.64        23\n",
      "                  gotgam       0.58      0.78      0.67        27\n",
      "                  gratin       0.54      0.37      0.44        19\n",
      "            grilled_beef       0.36      0.35      0.36        23\n",
      "  grilled_chicken_breast       0.30      0.17      0.21        18\n",
      "           grilled_clams       0.46      0.71      0.56        17\n",
      "         grilled_deodeok       0.40      0.21      0.28        19\n",
      "            grilled_duck       0.24      0.20      0.22        20\n",
      "             grilled_eel       0.37      0.29      0.33        24\n",
      "            grilled_fish       0.29      0.30      0.30        23\n",
      "        grilled_mackerel       0.25      0.14      0.18        22\n",
      "            grilled_pork       0.00      0.00      0.00        18\n",
      "          grilled_salmon       0.21      0.42      0.28        12\n",
      "          grilled_shrimp       0.42      0.28      0.33        18\n",
      "                 gwamegi       0.39      0.60      0.47        15\n",
      "              haejangguk       0.11      0.25      0.16        20\n",
      "              haemuljjim       0.69      0.31      0.43        29\n",
      "              haemultang       0.92      0.63      0.75        19\n",
      "                     ham       0.26      0.65      0.37        20\n",
      "           hamburg_steak       0.28      0.24      0.26        21\n",
      "          hawaiian_pizza       0.42      0.57      0.48        14\n",
      "               hobakjeon       0.62      0.19      0.29        26\n",
      "               hoemuchim       0.57      0.30      0.39        27\n",
      "                 hot_dog       0.50      0.30      0.37        20\n",
      "                 hot_pot       0.46      0.60      0.52        20\n",
      "             jajangmyeon       0.70      0.61      0.65        23\n",
      "                 japchae       0.44      0.55      0.49        20\n",
      "                 jjimdak       0.50      0.50      0.50        26\n",
      "                  jokbal       0.43      0.19      0.26        16\n",
      "          jukkumibokkeum       0.29      0.14      0.19        14\n",
      "                kalguksu       0.19      0.17      0.18        18\n",
      "              kaya_toast       0.60      0.17      0.26        18\n",
      "                   kebap       0.32      0.50      0.39        24\n",
      "          kimchi_pancake       0.62      0.71      0.67        21\n",
      "             kimchi_stew       0.50      0.21      0.29        24\n",
      "              kimchijjim       1.00      0.12      0.21        26\n",
      "              kkanpunggi       0.43      0.38      0.41        26\n",
      "              kkomakjjim       0.53      0.35      0.42        23\n",
      "             kodarijorim       0.33      0.11      0.16        19\n",
      "          korean_pancake       0.47      0.21      0.29        34\n",
      "            lamb_skewers       0.44      0.65      0.52        17\n",
      "                  lasana       0.00      0.00      0.00        26\n",
      "                 lobster       0.80      0.77      0.78        26\n",
      "                macaroon       0.53      0.47      0.50        19\n",
      "               madeleine       0.55      0.63      0.59        19\n",
      "               maeuntang       0.12      0.31      0.18        16\n",
      "                makguksu       0.39      0.72      0.51        25\n",
      "               mapa_tofu       0.57      0.30      0.39        27\n",
      "           meat_fritters       0.30      0.57      0.39        14\n",
      "                   melon       0.67      0.75      0.71        16\n",
      "              milfeuille       0.28      0.62      0.39        21\n",
      "                  muffin       0.52      0.71      0.60        21\n",
      "                  mulhoe       0.36      0.35      0.36        23\n",
      "                mushroom       0.62      0.65      0.63        20\n",
      "           myeongnanjeot       0.70      0.64      0.67        25\n",
      "                    naan       0.38      0.67      0.48        12\n",
      "                  nachos       0.40      0.53      0.46        15\n",
      "              naengmyeon       0.50      0.29      0.36        14\n",
      "nagasaki_seafood_noodles       0.52      0.50      0.51        22\n",
      "            nakjibokkeum       0.25      0.07      0.11        14\n",
      "             nasi_goreng       0.21      0.20      0.21        15\n",
      "                 noodles       0.27      0.39      0.32        18\n",
      "                nurungji       0.36      0.62      0.46        21\n",
      "                 octopus       1.00      0.50      0.67        10\n",
      "             okonomiyaki       0.36      0.42      0.38        12\n",
      "                   olive       0.92      0.86      0.89        14\n",
      "                  omelet       0.27      0.25      0.26        12\n",
      "                 onigiri       0.39      0.55      0.45        22\n",
      "                pad_thai       0.39      0.58      0.47        12\n",
      "                    paea       0.56      0.36      0.44        25\n",
      "                  pajeon       0.43      0.30      0.35        20\n",
      "                pan_cake       1.00      0.13      0.24        15\n",
      "      pan_fried_dumpling       0.45      0.67      0.54        15\n",
      "                   pasta       0.13      0.12      0.13        16\n",
      "            peanutsjorim       0.85      0.85      0.85        20\n",
      "         pepperoni_pizza       0.85      0.55      0.67        20\n",
      "                     pie       0.22      0.09      0.12        23\n",
      "               pineapple       0.93      0.87      0.90        15\n",
      "                   pizza       0.43      0.14      0.21        21\n",
      "                 popcorn       0.89      0.80      0.84        20\n",
      "               pork_chop       0.25      0.15      0.19        26\n",
      "             pork_cutlet       0.71      0.42      0.53        12\n",
      "          pork_galbijjim       0.37      0.81      0.51        16\n",
      "               pork_ribs       0.15      0.22      0.18        18\n",
      "          potato_pancake       0.25      0.32      0.28        25\n",
      "              pound_cake       0.19      0.44      0.26        18\n",
      "                 pudding       0.23      0.75      0.35        12\n",
      "              quesadilla       0.36      0.56      0.43        18\n",
      "                   ramen       1.00      0.38      0.55        16\n",
      "                  ramyun       0.58      0.46      0.51        24\n",
      "             ratatouille       0.20      0.08      0.11        13\n",
      "                    rice       0.33      0.19      0.24        16\n",
      "           rice_crackers       0.54      0.64      0.58        22\n",
      "             rice_noodle       0.38      0.72      0.49        25\n",
      "          ricotta_cheese       0.26      0.41      0.32        22\n",
      "                 risotto       0.20      0.54      0.30        24\n",
      "               roll_cake       0.21      0.38      0.27        16\n",
      "           rolled_omelet       0.73      0.33      0.46        24\n",
      "                   salad       0.34      0.53      0.42        19\n",
      "            salmon_salad       0.44      0.32      0.37        25\n",
      "          salmon_sashimi       0.54      0.88      0.67        16\n",
      "            salmon_sushi       0.59      0.56      0.57        18\n",
      "             samgyeopsal       0.57      0.16      0.25        25\n",
      "                sandwich       0.48      0.54      0.51        24\n",
      "                sannakji       0.23      0.65      0.34        23\n",
      "                 sashimi       0.39      0.43      0.41        21\n",
      "                 sausage       1.00      0.10      0.18        20\n",
      "            schweinshaxe       0.41      0.24      0.30        29\n",
      "            sea_cucumber       0.45      0.67      0.54        21\n",
      "  seasoned_fried_chicken       0.80      0.31      0.44        26\n",
      "            seaweed_soup       0.76      0.59      0.67        22\n",
      "              siraegiguk       0.23      0.47      0.31        15\n",
      "           sirloin_steak       0.07      0.06      0.07        16\n",
      "             smoked_duck       0.11      0.32      0.16        19\n",
      "       smoked_duck_salad       0.14      0.09      0.11        23\n",
      "                    soba       0.36      0.44      0.40        18\n",
      "                  somtam       0.46      0.67      0.55        18\n",
      "           spicy_noodles       0.61      0.42      0.50        26\n",
      "           spinach_salad       0.58      0.93      0.72        15\n",
      "                   squid       0.48      0.77      0.59        13\n",
      "                   steak       0.38      0.14      0.20        22\n",
      "            steamed_eggs       0.56      0.23      0.32        22\n",
      "                    stew       0.42      0.50      0.46        22\n",
      "     stir_fried_eggplant       0.33      0.55      0.41        22\n",
      "      stir_fried_seafood       0.28      0.45      0.34        11\n",
      "              strawberry       1.00      0.84      0.91        25\n",
      "                  sujebi       0.26      0.29      0.28        17\n",
      "              sukjunamul       0.86      0.78      0.82        23\n",
      "                  sundae       0.46      0.52      0.49        23\n",
      "           sundaebokkeum       0.55      0.40      0.46        15\n",
      "            sundaegukbap       0.28      0.92      0.43        13\n",
      "           sundubujjigae       0.50      0.20      0.29        15\n",
      "                   sushi       0.30      0.13      0.18        23\n",
      "          sutbuldakgalbi       0.47      0.33      0.39        21\n",
      "            sweet_potato       0.75      0.68      0.71        22\n",
      "                    taco       0.12      0.14      0.13        21\n",
      "                takoyaki       0.32      0.32      0.32        22\n",
      "        tenderloin_steak       0.36      0.41      0.38        22\n",
      "        teriyaki_chicken       0.32      0.33      0.33        24\n",
      "                tiramisu       0.65      0.48      0.55        23\n",
      "                   toast       0.29      0.26      0.28        19\n",
      "                    tofu       0.00      0.00      0.00        19\n",
      "            tomato_salad       0.24      0.37      0.29        19\n",
      "                 tongdak       0.38      0.22      0.28        23\n",
      "                tortilla       0.50      0.23      0.32        13\n",
      "            tteok_kkochi       0.58      0.41      0.48        17\n",
      "              tteokbokki       0.45      0.75      0.57        20\n",
      "              tteokgalbi       0.77      0.80      0.78        25\n",
      "                tteokguk       0.55      0.65      0.59        17\n",
      "            tuna_sashimi       0.89      0.85      0.87        20\n",
      "                    udon       0.56      0.24      0.33        21\n",
      "        vanilla_icecream       0.10      0.17      0.12        18\n",
      "           vongole_pasta       0.59      0.45      0.51        22\n",
      "                  waffle       0.48      0.62      0.54        21\n",
      "                  walnut       0.75      0.45      0.56        20\n",
      "              walnut_pie       0.80      0.21      0.33        19\n",
      "      whipped_cream_cake       0.57      0.63      0.60        19\n",
      "            white_kimchi       0.71      0.31      0.43        16\n",
      "             wolnam_ssam       0.57      0.80      0.67        20\n",
      "                  yakgwa       0.50      0.67      0.57        24\n",
      "            yeolmukimchi       0.65      0.67      0.66        30\n",
      "\n",
      "                accuracy                           0.43      5060\n",
      "               macro avg       0.49      0.44      0.43      5060\n",
      "            weighted avg       0.49      0.43      0.43      5060\n",
      "\n"
     ]
    }
   ],
   "source": [
    "print(\"Classification Report:\\n----------------------\\n\", sample_clr)"
   ]
  },
  {
   "cell_type": "markdown",
   "metadata": {},
   "source": [
    "##### Save Model"
   ]
  },
  {
   "cell_type": "code",
   "execution_count": 76,
   "metadata": {},
   "outputs": [],
   "source": [
    "sample_model.save('../models/sample_vgg16.h5')"
   ]
  }
 ],
 "metadata": {
  "kernelspec": {
   "display_name": "Python 3",
   "language": "python",
   "name": "python3"
  },
  "language_info": {
   "codemirror_mode": {
    "name": "ipython",
    "version": 3
   },
   "file_extension": ".py",
   "mimetype": "text/x-python",
   "name": "python",
   "nbconvert_exporter": "python",
   "pygments_lexer": "ipython3",
   "version": "3.8.10"
  }
 },
 "nbformat": 4,
 "nbformat_minor": 2
}
