{
 "cells": [
  {
   "cell_type": "markdown",
   "metadata": {},
   "source": [
    "#### Creating File DataFrame"
   ]
  },
  {
   "cell_type": "markdown",
   "metadata": {},
   "source": [
    "- 데이터 출처\n",
    "    - https://open.selectstar.ai/ko/?page_id=5976\n",
    "    - https://aihub.or.kr/aihubdata/data/view.do?currMenu=&topMenu=&aihubDataSe=realm&dataSetSn=242\n",
    "    - https://aihub.or.kr/aihubdata/data/view.do?currMenu=&topMenu=&aihubDataSe=realm&dataSetSn=79"
   ]
  },
  {
   "cell_type": "code",
   "execution_count": 1,
   "metadata": {},
   "outputs": [],
   "source": [
    "import pandas as pd\n",
    "import numpy as np\n",
    "import os\n",
    "import json\n",
    "import random\n",
    "from natsort import natsorted\n",
    "from pathlib import Path"
   ]
  },
  {
   "cell_type": "code",
   "execution_count": 2,
   "metadata": {},
   "outputs": [],
   "source": [
    "BASE_PATH = '../data/edited_data'\n",
    "\n",
    "dir_path = Path(BASE_PATH)"
   ]
  },
  {
   "cell_type": "code",
   "execution_count": 3,
   "metadata": {},
   "outputs": [],
   "source": [
    "# food1 깨진 파일 삭제\n",
    "food1_ps = list(dir_path.joinpath('food1').rglob(\"*.png\"))\n",
    "\n",
    "for i in food1_ps:\n",
    "    if  i.stem.startswith('._') == True:\n",
    "        os.remove(str(i))"
   ]
  },
  {
   "cell_type": "code",
   "execution_count": 4,
   "metadata": {},
   "outputs": [
    {
     "data": {
      "text/plain": [
       "45"
      ]
     },
     "execution_count": 4,
     "metadata": {},
     "output_type": "execute_result"
    }
   ],
   "source": [
    "food1_cate = []\n",
    "\n",
    "for (root, directories, files) in os.walk(dir_path.joinpath('food1')):\n",
    "    for d in directories:\n",
    "        category = os.path.join(root, d).split('\\\\')[-1]\n",
    "        food1_cate.append(category)\n",
    "\n",
    "food1_cate = food1_cate[:45]\n",
    "len(food1_cate)"
   ]
  },
  {
   "cell_type": "code",
   "execution_count": 5,
   "metadata": {},
   "outputs": [
    {
     "name": "stdout",
     "output_type": "stream",
     "text": [
      "44999 44999\n"
     ]
    }
   ],
   "source": [
    "food1_paths = []\n",
    "\n",
    "for category in food1_cate:\n",
    "    if len(list(dir_path.joinpath(f'food1/{category}').rglob(\"*.png\"))) > 1000:\n",
    "        random_elements = random.sample(list(dir_path.joinpath(f'food1/{category}').rglob(\"*.png\")), 1000)\n",
    "        food1_paths.extend(random_elements)\n",
    "    else :\n",
    "        small = list(dir_path.joinpath(f'food1/{category}').rglob(\"*.png\"))\n",
    "        food1_paths.extend(small)\n",
    "\n",
    "food1_labels = list(map(lambda x: os.path.split(x)[0].split('\\\\')[4], food1_paths))\n",
    "\n",
    "print(len(food1_paths), len(food1_labels))"
   ]
  },
  {
   "cell_type": "code",
   "execution_count": 6,
   "metadata": {},
   "outputs": [
    {
     "data": {
      "text/plain": [
       "81"
      ]
     },
     "execution_count": 6,
     "metadata": {},
     "output_type": "execute_result"
    }
   ],
   "source": [
    "food2_cate = []\n",
    "\n",
    "for (root, directories, files) in os.walk(dir_path.joinpath('food2')):\n",
    "    for d in directories:\n",
    "        category = os.path.join(root, d).split('\\\\')[-1]\n",
    "        food2_cate.append(category)\n",
    "\n",
    "len(food2_cate)"
   ]
  },
  {
   "cell_type": "code",
   "execution_count": 7,
   "metadata": {},
   "outputs": [
    {
     "name": "stdout",
     "output_type": "stream",
     "text": [
      "70303 70303\n"
     ]
    }
   ],
   "source": [
    "food2_paths = []\n",
    "\n",
    "for category in food2_cate:\n",
    "    if len(list(dir_path.joinpath(f'food2/{category}').rglob(\"*.jpg\"))) > 1000:\n",
    "        random_elements = random.sample(list(dir_path.joinpath(f'food2/{category}').rglob(\"*.jpg\")), 1000)\n",
    "        food2_paths.extend(random_elements)\n",
    "    else :\n",
    "        small = list(dir_path.joinpath(f'food2/{category}').rglob(\"*.jpg\"))\n",
    "        food2_paths.extend(small)\n",
    "\n",
    "food2_labels = list(map(lambda x: os.path.split(x)[0].split('\\\\')[4], food2_paths))\n",
    "\n",
    "print(len(food2_paths), len(food2_labels))"
   ]
  },
  {
   "cell_type": "code",
   "execution_count": 8,
   "metadata": {},
   "outputs": [
    {
     "data": {
      "text/plain": [
       "31"
      ]
     },
     "execution_count": 8,
     "metadata": {},
     "output_type": "execute_result"
    }
   ],
   "source": [
    "food3_cate = []\n",
    "\n",
    "for (root, directories, files) in os.walk(dir_path.joinpath('food3')):\n",
    "    for d in directories:\n",
    "        category = os.path.join(root, d).split('\\\\')[-1]\n",
    "        food3_cate.append(category)\n",
    "\n",
    "len(food3_cate)"
   ]
  },
  {
   "cell_type": "code",
   "execution_count": 9,
   "metadata": {},
   "outputs": [
    {
     "name": "stdout",
     "output_type": "stream",
     "text": [
      "30964 30964\n"
     ]
    }
   ],
   "source": [
    "food3_paths = []\n",
    "\n",
    "for category in food3_cate:\n",
    "    if len(list(dir_path.joinpath(f'food3/{category}').rglob(\"*.jpg\"))) > 1000:\n",
    "        random_elements = random.sample(list(dir_path.joinpath(f'food3/{category}').rglob(\"*.jpg\")), 1000)\n",
    "        food3_paths.extend(random_elements)\n",
    "    else :\n",
    "        small = list(dir_path.joinpath(f'food3/{category}').rglob(\"*.jpg\"))\n",
    "        food3_paths.extend(small)\n",
    "\n",
    "food3_labels = list(map(lambda x: os.path.split(x)[0].split('\\\\')[4], food3_paths))\n",
    "\n",
    "print(len(food3_paths), len(food3_labels))"
   ]
  },
  {
   "cell_type": "code",
   "execution_count": 10,
   "metadata": {},
   "outputs": [
    {
     "name": "stdout",
     "output_type": "stream",
     "text": [
      "146266 146266\n"
     ]
    }
   ],
   "source": [
    "all_image_paths = food1_paths + food2_paths + food3_paths\n",
    "all_labels = food1_labels + food2_labels + food3_labels\n",
    "\n",
    "print(len(all_image_paths), len(all_labels))"
   ]
  },
  {
   "cell_type": "code",
   "execution_count": 11,
   "metadata": {},
   "outputs": [],
   "source": [
    "image_series = pd.Series(all_image_paths, name='imagepath').astype(str)\n",
    "labels_series = pd.Series(all_labels, name='label')\n",
    "\n",
    "image_df = pd.concat([image_series, labels_series], axis=1)"
   ]
  },
  {
   "cell_type": "code",
   "execution_count": 12,
   "metadata": {},
   "outputs": [
    {
     "data": {
      "text/html": [
       "<div>\n",
       "<style scoped>\n",
       "    .dataframe tbody tr th:only-of-type {\n",
       "        vertical-align: middle;\n",
       "    }\n",
       "\n",
       "    .dataframe tbody tr th {\n",
       "        vertical-align: top;\n",
       "    }\n",
       "\n",
       "    .dataframe thead th {\n",
       "        text-align: right;\n",
       "    }\n",
       "</style>\n",
       "<table border=\"1\" class=\"dataframe\">\n",
       "  <thead>\n",
       "    <tr style=\"text-align: right;\">\n",
       "      <th></th>\n",
       "      <th>imagepath</th>\n",
       "      <th>label</th>\n",
       "    </tr>\n",
       "  </thead>\n",
       "  <tbody>\n",
       "    <tr>\n",
       "      <th>0</th>\n",
       "      <td>..\\data\\edited_data\\food1\\baek_sook\\png\\baek_s...</td>\n",
       "      <td>baek_sook</td>\n",
       "    </tr>\n",
       "    <tr>\n",
       "      <th>1</th>\n",
       "      <td>..\\data\\edited_data\\food1\\baek_sook\\png\\baek_s...</td>\n",
       "      <td>baek_sook</td>\n",
       "    </tr>\n",
       "    <tr>\n",
       "      <th>2</th>\n",
       "      <td>..\\data\\edited_data\\food1\\baek_sook\\png\\baek_s...</td>\n",
       "      <td>baek_sook</td>\n",
       "    </tr>\n",
       "    <tr>\n",
       "      <th>3</th>\n",
       "      <td>..\\data\\edited_data\\food1\\baek_sook\\png\\baek_s...</td>\n",
       "      <td>baek_sook</td>\n",
       "    </tr>\n",
       "    <tr>\n",
       "      <th>4</th>\n",
       "      <td>..\\data\\edited_data\\food1\\baek_sook\\png\\baek_s...</td>\n",
       "      <td>baek_sook</td>\n",
       "    </tr>\n",
       "  </tbody>\n",
       "</table>\n",
       "</div>"
      ],
      "text/plain": [
       "                                           imagepath      label\n",
       "0  ..\\data\\edited_data\\food1\\baek_sook\\png\\baek_s...  baek_sook\n",
       "1  ..\\data\\edited_data\\food1\\baek_sook\\png\\baek_s...  baek_sook\n",
       "2  ..\\data\\edited_data\\food1\\baek_sook\\png\\baek_s...  baek_sook\n",
       "3  ..\\data\\edited_data\\food1\\baek_sook\\png\\baek_s...  baek_sook\n",
       "4  ..\\data\\edited_data\\food1\\baek_sook\\png\\baek_s...  baek_sook"
      ]
     },
     "execution_count": 12,
     "metadata": {},
     "output_type": "execute_result"
    }
   ],
   "source": [
    "image_df.head()"
   ]
  },
  {
   "cell_type": "code",
   "execution_count": 13,
   "metadata": {},
   "outputs": [
    {
     "data": {
      "text/plain": [
       "label\n",
       "baek_sook               1000\n",
       "fried_rice              1000\n",
       "sausage                 1000\n",
       "rice                    1000\n",
       "ramyun                  1000\n",
       "                        ... \n",
       "haemultang               320\n",
       "chilled_jokbal_salad     312\n",
       "sundaegukbap             305\n",
       "mushroom                 248\n",
       "fried_food               223\n",
       "Name: count, Length: 157, dtype: int64"
      ]
     },
     "execution_count": 13,
     "metadata": {},
     "output_type": "execute_result"
    }
   ],
   "source": [
    "image_df['label'].value_counts()"
   ]
  }
 ],
 "metadata": {
  "kernelspec": {
   "display_name": "Python 3",
   "language": "python",
   "name": "python3"
  },
  "language_info": {
   "codemirror_mode": {
    "name": "ipython",
    "version": 3
   },
   "file_extension": ".py",
   "mimetype": "text/x-python",
   "name": "python",
   "nbconvert_exporter": "python",
   "pygments_lexer": "ipython3",
   "version": "3.8.10"
  }
 },
 "nbformat": 4,
 "nbformat_minor": 2
}
