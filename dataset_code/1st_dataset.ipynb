{
 "cells": [
  {
   "cell_type": "markdown",
   "metadata": {},
   "source": [
    "#### Creating File DataFrame"
   ]
  },
  {
   "cell_type": "markdown",
   "metadata": {},
   "source": [
    "- 데이터 출처\n",
    "    - https://open.selectstar.ai/ko/?page_id=5976"
   ]
  },
  {
   "cell_type": "code",
   "execution_count": null,
   "metadata": {},
   "outputs": [],
   "source": [
    "import pandas as pd\n",
    "import numpy as np\n",
    "import os\n",
    "import json\n",
    "from natsort import natsorted\n",
    "from pathlib import Path"
   ]
  },
  {
   "cell_type": "code",
   "execution_count": null,
   "metadata": {},
   "outputs": [],
   "source": [
    "BASE_PATH = '../data/food1'\n",
    "\n",
    "dir_path = Path(BASE_PATH)"
   ]
  },
  {
   "cell_type": "code",
   "execution_count": null,
   "metadata": {},
   "outputs": [],
   "source": [
    "image_ps = list(dir_path.rglob(\"*.png\"))\n",
    "image_paths = []\n",
    "\n",
    "for i in image_ps:\n",
    "    if i.stem.startswith(('._', 'BBQ', 'bingsu', 'cake', 'coffee_hot', 'coffee_ice', 'serial', 'soup', 'pasta')) == True:\n",
    "        pass\n",
    "    else:\n",
    "        image_paths.append(i)\n",
    "        \n",
    "labels = list(map(lambda x: os.path.split(x)[0].split('\\\\')[3], image_paths))\n",
    "\n",
    "print(len(image_paths), len(labels))"
   ]
  },
  {
   "cell_type": "code",
   "execution_count": null,
   "metadata": {},
   "outputs": [],
   "source": [
    "cake_image_ps = list(dir_path.joinpath('cake').rglob(\"*.png\"))\n",
    "pasta_image_ps = list(dir_path.joinpath('pasta').rglob(\"*.png\"))\n",
    "cake_image_paths = []\n",
    "pasta_image_paths = []\n",
    "\n",
    "for i in cake_image_ps:\n",
    "    if i.stem.startswith('._') == True:\n",
    "        pass\n",
    "    else:\n",
    "        cake_image_paths.append(i)\n",
    "\n",
    "for i in pasta_image_ps:\n",
    "    if i.stem.startswith('._') == True:\n",
    "        pass\n",
    "    else:\n",
    "        pasta_image_paths.append(i)\n",
    "\n",
    "print(len(cake_image_paths), len(pasta_image_paths))"
   ]
  },
  {
   "cell_type": "code",
   "execution_count": null,
   "metadata": {},
   "outputs": [],
   "source": [
    "cake_json_ps = list(dir_path.joinpath('cake').rglob(\"*.json\"))\n",
    "pasta_json_ps = list(dir_path.joinpath('pasta').rglob(\"*.json\"))\n",
    "\n",
    "cake_json_paths = natsorted(cake_json_ps, key=str)\n",
    "pasta_json_paths = natsorted(pasta_json_ps, key=str)"
   ]
  },
  {
   "cell_type": "code",
   "execution_count": null,
   "metadata": {},
   "outputs": [],
   "source": [
    "cake_json_list = []\n",
    "pasta_json_list = []\n",
    "\n",
    "for i in cake_json_paths:\n",
    "    with i.open(encoding='utf-8-sig') as f:\n",
    "        cake_data = json.load(f)\n",
    "        cake_json_list.append(cake_data)\n",
    "\n",
    "for i in pasta_json_paths:\n",
    "    with i.open(encoding='utf-8-sig') as f:\n",
    "        pasta_data = json.load(f)\n",
    "        pasta_json_list.append(pasta_data)"
   ]
  },
  {
   "cell_type": "code",
   "execution_count": null,
   "metadata": {},
   "outputs": [],
   "source": [
    "cake_labels = []\n",
    "\n",
    "for i in range(len(cake_json_list)):\n",
    "    for j in range(len(cake_json_list[i]['ingredients'])):\n",
    "        if cake_json_list[i]['ingredients'][j]['subtype'] == 'dairy_product_egg':\n",
    "            if cake_json_list[i]['ingredients'][j]['ingredient'] == 'butter':\n",
    "                cake_labels.append('cake')\n",
    "            elif cake_json_list[i]['ingredients'][j]['ingredient'] == 'ice_cream':\n",
    "                cake_labels.append('cake')\n",
    "            else:\n",
    "                cake_name = cake_json_list[i]['ingredients'][j]['ingredient'] + '_cake'\n",
    "                cake_labels.append(cake_name)\n",
    "            break\n",
    "        else:\n",
    "            pass\n",
    "        \n",
    "    if len(cake_labels) != i+1:\n",
    "        cake_labels.append('cake')\n",
    "    else:\n",
    "        pass\n",
    "        \n",
    "print(len(cake_labels))"
   ]
  },
  {
   "cell_type": "code",
   "execution_count": null,
   "metadata": {},
   "outputs": [],
   "source": [
    "pasta_labels = []\n",
    "\n",
    "for i in range(len(pasta_json_list)):\n",
    "    for j in range(len(pasta_json_list[i]['ingredients'])):\n",
    "        if pasta_json_list[i]['ingredients'][j]['subtype'] == 'soup_sauce_spice':\n",
    "            if pasta_json_list[i]['ingredients'][j]['ingredient'] == 'tomato_sauce':\n",
    "                pasta_labels.append('tomato_sauce_pasta')\n",
    "            elif pasta_json_list[i]['ingredients'][j]['ingredient'] == 'cream_sauce':\n",
    "                pasta_labels.append('cream_sauce_pasta')\n",
    "            elif pasta_json_list[i]['ingredients'][j]['ingredient'] == 'oil':\n",
    "                pasta_labels.append('oil_pasta')\n",
    "            elif pasta_json_list[i]['ingredients'][j]['ingredient'] == 'ketchup':\n",
    "                pasta_labels.append('tomato_sauce_pasta')\n",
    "            else:\n",
    "                pasta_labels.append('pasta')\n",
    "            break\n",
    "        else:\n",
    "            pass\n",
    "        \n",
    "    if len(pasta_labels) != i+1:\n",
    "        pasta_labels.append('pasta')\n",
    "    else:\n",
    "        pass\n",
    "        \n",
    "print(len(pasta_labels))"
   ]
  },
  {
   "cell_type": "code",
   "execution_count": null,
   "metadata": {},
   "outputs": [],
   "source": [
    "all_image_paths = image_paths + cake_image_paths + pasta_image_paths\n",
    "all_labels = labels + cake_labels + pasta_labels\n",
    "\n",
    "print(len(all_image_paths), len(all_labels))"
   ]
  },
  {
   "cell_type": "code",
   "execution_count": null,
   "metadata": {},
   "outputs": [],
   "source": [
    "image_series = pd.Series(all_image_paths, name='imagepath').astype(str)\n",
    "labels_series = pd.Series(all_labels, name='label')\n",
    "\n",
    "images_df = pd.concat([image_series, labels_series], axis=1)"
   ]
  },
  {
   "cell_type": "code",
   "execution_count": null,
   "metadata": {},
   "outputs": [],
   "source": [
    "images_df.head()"
   ]
  },
  {
   "cell_type": "code",
   "execution_count": null,
   "metadata": {},
   "outputs": [],
   "source": [
    "images_df['label'].value_counts()"
   ]
  },
  {
   "cell_type": "code",
   "execution_count": null,
   "metadata": {},
   "outputs": [],
   "source": [
    "category_samples = []\n",
    "for category in images_df['label'].unique():\n",
    "    category_slice = images_df.query(\"label == @category\")\n",
    "    category_samples.append(category_slice.sample(100, random_state=42, replace=True))\n",
    "sample_df = pd.concat(category_samples, axis=0).sample(frac=1.0, random_state=42).reset_index(drop=True)"
   ]
  },
  {
   "cell_type": "code",
   "execution_count": null,
   "metadata": {},
   "outputs": [],
   "source": [
    "sample_df.head()"
   ]
  },
  {
   "cell_type": "code",
   "execution_count": null,
   "metadata": {},
   "outputs": [],
   "source": [
    "sample_df['label'].value_counts()"
   ]
  },
  {
   "cell_type": "markdown",
   "metadata": {},
   "source": [
    "#### Train-Test Split"
   ]
  },
  {
   "cell_type": "code",
   "execution_count": null,
   "metadata": {},
   "outputs": [],
   "source": [
    "from sklearn.model_selection import train_test_split"
   ]
  },
  {
   "cell_type": "code",
   "execution_count": null,
   "metadata": {},
   "outputs": [],
   "source": [
    "sample_train_df, sample_test_df = train_test_split(sample_df, test_size=0.2, shuffle=True, random_state=42)"
   ]
  },
  {
   "cell_type": "markdown",
   "metadata": {},
   "source": [
    "#### Creating Generators"
   ]
  },
  {
   "cell_type": "code",
   "execution_count": null,
   "metadata": {},
   "outputs": [],
   "source": [
    "import tensorflow as tf"
   ]
  },
  {
   "cell_type": "code",
   "execution_count": null,
   "metadata": {},
   "outputs": [],
   "source": [
    "train_generator = tf.keras.preprocessing.image.ImageDataGenerator(\n",
    "    preprocessing_function=tf.keras.applications.mobilenet_v2.preprocess_input,\n",
    "    validation_split=0.2\n",
    ")\n",
    "\n",
    "test_generator = tf.keras.preprocessing.image.ImageDataGenerator(\n",
    "    preprocessing_function=tf.keras.applications.mobilenet_v2.preprocess_input\n",
    ")"
   ]
  },
  {
   "cell_type": "code",
   "execution_count": null,
   "metadata": {},
   "outputs": [],
   "source": [
    "sample_train_images = train_generator.flow_from_dataframe(\n",
    "    dataframe=sample_train_df,\n",
    "    x_col='imagepath',\n",
    "    y_col='label',\n",
    "    target_size=(224, 224),\n",
    "    color_mode='rgb',\n",
    "    class_mode='categorical',\n",
    "    batch_size=32,\n",
    "    shuffle=True,\n",
    "    seed=42,\n",
    "    subset='training'\n",
    ")\n",
    "\n",
    "sample_val_images = train_generator.flow_from_dataframe(\n",
    "    dataframe=sample_train_df,\n",
    "    x_col='imagepath',\n",
    "    y_col='label',\n",
    "    target_size=(224, 224),\n",
    "    color_mode='rgb',\n",
    "    class_mode='categorical',\n",
    "    batch_size=32,\n",
    "    shuffle=True,\n",
    "    seed=42,\n",
    "    subset='validation'\n",
    ")\n",
    "\n",
    "sample_test_images = test_generator.flow_from_dataframe(\n",
    "    dataframe=sample_test_df,\n",
    "    x_col='imagepath',\n",
    "    y_col='label',\n",
    "    target_size=(224, 224),\n",
    "    color_mode='rgb',\n",
    "    class_mode='categorical',\n",
    "    batch_size=32,\n",
    "    shuffle=False\n",
    ")"
   ]
  },
  {
   "cell_type": "code",
   "execution_count": null,
   "metadata": {},
   "outputs": [],
   "source": [
    "sample_train_images"
   ]
  },
  {
   "cell_type": "markdown",
   "metadata": {},
   "source": [
    "#### Modeling"
   ]
  }
 ],
 "metadata": {
  "kernelspec": {
   "display_name": "Python 3",
   "language": "python",
   "name": "python3"
  },
  "language_info": {
   "codemirror_mode": {
    "name": "ipython",
    "version": 3
   },
   "file_extension": ".py",
   "mimetype": "text/x-python",
   "name": "python",
   "nbconvert_exporter": "python",
   "pygments_lexer": "ipython3",
   "version": "3.11.6"
  }
 },
 "nbformat": 4,
 "nbformat_minor": 2
}
