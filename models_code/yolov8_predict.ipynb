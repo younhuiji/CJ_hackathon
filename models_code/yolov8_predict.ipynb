{
 "cells": [
  {
   "cell_type": "code",
   "execution_count": 1,
   "metadata": {},
   "outputs": [],
   "source": [
    "from ultralytics import YOLO\n",
    "\n",
    "model = YOLO('../models/best.pt')"
   ]
  },
  {
   "cell_type": "code",
   "execution_count": 2,
   "metadata": {},
   "outputs": [],
   "source": [
    "def tojson(self, normalize=False):\n",
    "    \"\"\"Convert the object to JSON format.\"\"\"\n",
    "    if self.probs is not None:\n",
    "        LOGGER.warning('Warning: Classify task do not support `tojson` yet.')\n",
    "        return\n",
    "\n",
    "    import json\n",
    "\n",
    "    # Create list of detection dictionaries\n",
    "    results = []\n",
    "    data = self.boxes.data.cpu().tolist()\n",
    "    h, w = self.orig_shape if normalize else (1, 1)\n",
    "    for i, row in enumerate(data):  # xyxy, track_id if tracking, conf, class_id\n",
    "        box = {'x1': row[0] / w, 'y1': row[1] / h, 'x2': row[2] / w, 'y2': row[3] / h}\n",
    "        conf = row[-2]\n",
    "        class_id = int(row[-1])\n",
    "        name = self.names[class_id]\n",
    "        result = {'name': name, 'class': class_id, 'confidence': conf, 'box': box}\n",
    "        if self.boxes.is_track:\n",
    "            result['track_id'] = int(row[-3])  # track ID\n",
    "        if self.masks:\n",
    "            x, y = self.masks.xy[i][:, 0], self.masks.xy[i][:, 1]  # numpy array\n",
    "            result['segments'] = {'x': (x / w).tolist(), 'y': (y / h).tolist()}\n",
    "        if self.keypoints is not None:\n",
    "            x, y, visible = self.keypoints[i].data[0].cpu().unbind(dim=1)  # torch Tensor\n",
    "            result['keypoints'] = {'x': (x / w).tolist(), 'y': (y / h).tolist(), 'visible': visible.tolist()}\n",
    "        results.append(result)\n",
    "\n",
    "    # Convert detections to JSON\n",
    "    return json.dumps(results, indent=2)"
   ]
  },
  {
   "cell_type": "code",
   "execution_count": 4,
   "metadata": {},
   "outputs": [
    {
     "name": "stderr",
     "output_type": "stream",
     "text": [
      "\n",
      "image 1/1 c:\\Users\\User\\Desktop\\CRUSH ON AI \\\\code\\..\\for_predict\\pan_cake.png: 640x640 1 pan_cake, 2 strawberrys, 325.1ms\n",
      "Speed: 3.0ms preprocess, 325.1ms inference, 2.0ms postprocess per image at shape (1, 3, 640, 640)\n"
     ]
    }
   ],
   "source": [
    "results = model('../for_predict/pan_cake.png')"
   ]
  },
  {
   "cell_type": "code",
   "execution_count": 5,
   "metadata": {},
   "outputs": [
    {
     "data": {
      "text/plain": [
       "[{'name': 'pan_cake',\n",
       "  'class': 109,\n",
       "  'confidence': 0.9206794500350952,\n",
       "  'box': {'x1': 171.84237670898438,\n",
       "   'y1': 212.4482421875,\n",
       "   'x2': 790.22705078125,\n",
       "   'y2': 771.7550048828125}},\n",
       " {'name': 'strawberry',\n",
       "  'class': 137,\n",
       "  'confidence': 0.742880642414093,\n",
       "  'box': {'x1': 140.48587036132812,\n",
       "   'y1': 715.2039184570312,\n",
       "   'x2': 313.2257385253906,\n",
       "   'y2': 888.1173706054688}},\n",
       " {'name': 'strawberry',\n",
       "  'class': 137,\n",
       "  'confidence': 0.7033928036689758,\n",
       "  'box': {'x1': 301.91839599609375,\n",
       "   'y1': 738.7453002929688,\n",
       "   'x2': 447.1363830566406,\n",
       "   'y2': 872.853515625}}]"
      ]
     },
     "execution_count": 5,
     "metadata": {},
     "output_type": "execute_result"
    }
   ],
   "source": [
    "import json\n",
    "\n",
    "to_json = tojson(results[0])\n",
    "json_object = json.loads(to_json)\n",
    "json_object"
   ]
  },
  {
   "cell_type": "code",
   "execution_count": 6,
   "metadata": {},
   "outputs": [
    {
     "data": {
      "text/plain": [
       "['pan_cake', 'strawberry']"
      ]
     },
     "execution_count": 6,
     "metadata": {},
     "output_type": "execute_result"
    }
   ],
   "source": [
    "class_list = []\n",
    "\n",
    "for i in range(len(json_object)):\n",
    "    name = json_object[i]['name']\n",
    "    if name in class_list:\n",
    "        pass\n",
    "    else:\n",
    "        class_list.append(name)\n",
    "\n",
    "class_list"
   ]
  }
 ],
 "metadata": {
  "kernelspec": {
   "display_name": "cp2",
   "language": "python",
   "name": "python3"
  },
  "language_info": {
   "codemirror_mode": {
    "name": "ipython",
    "version": 3
   },
   "file_extension": ".py",
   "mimetype": "text/x-python",
   "name": "python",
   "nbconvert_exporter": "python",
   "pygments_lexer": "ipython3",
   "version": "3.8.16"
  }
 },
 "nbformat": 4,
 "nbformat_minor": 2
}
